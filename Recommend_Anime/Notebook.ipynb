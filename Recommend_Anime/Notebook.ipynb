{
  "cells": [
    {
      "cell_type": "markdown",
      "metadata": {
        "id": "H0mo15HYYWo2"
      },
      "source": [
        "# **IMPORT** **LIBRARY**"
      ]
    },
    {
      "cell_type": "code",
      "execution_count": 3,
      "metadata": {
        "id": "5XBN9Yv56Slf"
      },
      "outputs": [],
      "source": [
        "import numpy as np\n",
        "import pandas as pd\n",
        "import matplotlib.pyplot as plt\n",
        "import seaborn as sns\n",
        "import warnings\n",
        "import re\n",
        "from nltk.corpus import stopwords\n",
        "from nltk.stem import PorterStemmer\n",
        "from sklearn.feature_extraction.text import TfidfVectorizer\n",
        "from sklearn.metrics.pairwise import cosine_similarity\n",
        "from sklearn.preprocessing import MinMaxScaler\n",
        "import nltk\n",
        "from datetime import datetime\n",
        "import pickle\n",
        "from sklearn.preprocessing import MinMaxScaler, OneHotEncoder\n",
        "from scipy.sparse import hstack, csr_matrix"
      ]
    },
    {
      "cell_type": "markdown",
      "metadata": {
        "id": "QOiKUwSOYoT2"
      },
      "source": [
        "# **LOAD DATASET**"
      ]
    },
    {
      "cell_type": "code",
      "execution_count": 4,
      "metadata": {
        "colab": {
          "base_uri": "https://localhost:8080/"
        },
        "id": "8fbf2x2R6WNw",
        "outputId": "bad9dbd5-93c5-4462-d479-12ba05211d7f"
      },
      "outputs": [
        {
          "name": "stdout",
          "output_type": "stream",
          "text": [
            "anime dataset: (24905, 24) \n",
            "user score dataset: (24325191, 5)\n"
          ]
        }
      ],
      "source": [
        "try:\n",
        "    nltk.data.find('corpora/stopwords')\n",
        "except LookupError:\n",
        "    nltk.download('stopwords')\n",
        "\n",
        "warnings.filterwarnings('ignore')\n",
        "\n",
        "df = pd.read_csv('./dataset_anime/anime-dataset-2023.csv')\n",
        "ratings = pd.read_csv('./dataset_anime/users-score-2023.csv')\n",
        "\n",
        "print(f\"anime dataset: {df.shape} \")\n",
        "print(f\"user score dataset: {ratings.shape}\")"
      ]
    },
    {
      "cell_type": "markdown",
      "metadata": {
        "id": "xgMR6eb3Zjtl"
      },
      "source": [
        "# **EDA (EXPLORE DATA ANALYSIS)**"
      ]
    },
    {
      "cell_type": "code",
      "execution_count": 5,
      "metadata": {
        "colab": {
          "base_uri": "https://localhost:8080/"
        },
        "id": "hhpE09NAsE84",
        "outputId": "37e3e5d7-4c7f-463a-b086-663fbe83d623"
      },
      "outputs": [
        {
          "name": "stdout",
          "output_type": "stream",
          "text": [
            "<class 'pandas.core.frame.DataFrame'>\n",
            "RangeIndex: 24325191 entries, 0 to 24325190\n",
            "Data columns (total 5 columns):\n",
            " #   Column       Dtype \n",
            "---  ------       ----- \n",
            " 0   user_id      int64 \n",
            " 1   Username     object\n",
            " 2   anime_id     int64 \n",
            " 3   Anime Title  object\n",
            " 4   rating       int64 \n",
            "dtypes: int64(3), object(2)\n",
            "memory usage: 927.9+ MB\n"
          ]
        }
      ],
      "source": [
        "ratings.info()"
      ]
    },
    {
      "cell_type": "code",
      "execution_count": 6,
      "metadata": {
        "colab": {
          "base_uri": "https://localhost:8080/",
          "height": 241
        },
        "id": "wIyo0c_Dsfw2",
        "outputId": "e8835d0c-cb31-4e38-ac7d-1dd8280ef4a5"
      },
      "outputs": [
        {
          "data": {
            "text/plain": [
              "Username       232\n",
              "user_id          0\n",
              "anime_id         0\n",
              "Anime Title      0\n",
              "rating           0\n",
              "dtype: int64"
            ]
          },
          "execution_count": 6,
          "metadata": {},
          "output_type": "execute_result"
        }
      ],
      "source": [
        "missing_values = ratings.isnull().sum().sort_values(ascending=False)\n",
        "missing_values.head()"
      ]
    },
    {
      "cell_type": "code",
      "execution_count": 7,
      "metadata": {
        "id": "YYXYxKUKtmpg"
      },
      "outputs": [],
      "source": [
        "ratings.drop('Username', axis=1, inplace=True)"
      ]
    },
    {
      "cell_type": "code",
      "execution_count": 8,
      "metadata": {
        "colab": {
          "base_uri": "https://localhost:8080/"
        },
        "id": "mEx1Z9h7t1Hp",
        "outputId": "4abd103f-e812-4e1e-88da-356d7abf93b8"
      },
      "outputs": [
        {
          "data": {
            "text/plain": [
              "0"
            ]
          },
          "execution_count": 8,
          "metadata": {},
          "output_type": "execute_result"
        }
      ],
      "source": [
        "ratings.duplicated().sum()"
      ]
    },
    {
      "cell_type": "code",
      "execution_count": 9,
      "metadata": {
        "colab": {
          "base_uri": "https://localhost:8080/",
          "height": 652
        },
        "id": "dqrDfnA86m2O",
        "outputId": "bf3be4cc-5c2c-4556-cf27-eeaa0f33fe5a"
      },
      "outputs": [
        {
          "data": {
            "text/html": [
              "<div>\n",
              "<style scoped>\n",
              "    .dataframe tbody tr th:only-of-type {\n",
              "        vertical-align: middle;\n",
              "    }\n",
              "\n",
              "    .dataframe tbody tr th {\n",
              "        vertical-align: top;\n",
              "    }\n",
              "\n",
              "    .dataframe thead th {\n",
              "        text-align: right;\n",
              "    }\n",
              "</style>\n",
              "<table border=\"1\" class=\"dataframe\">\n",
              "  <thead>\n",
              "    <tr style=\"text-align: right;\">\n",
              "      <th></th>\n",
              "      <th>anime_id</th>\n",
              "      <th>Name</th>\n",
              "      <th>English name</th>\n",
              "      <th>Other name</th>\n",
              "      <th>Score</th>\n",
              "      <th>Genres</th>\n",
              "      <th>Synopsis</th>\n",
              "      <th>Type</th>\n",
              "      <th>Episodes</th>\n",
              "      <th>Aired</th>\n",
              "      <th>...</th>\n",
              "      <th>Studios</th>\n",
              "      <th>Source</th>\n",
              "      <th>Duration</th>\n",
              "      <th>Rating</th>\n",
              "      <th>Rank</th>\n",
              "      <th>Popularity</th>\n",
              "      <th>Favorites</th>\n",
              "      <th>Scored By</th>\n",
              "      <th>Members</th>\n",
              "      <th>Image URL</th>\n",
              "    </tr>\n",
              "  </thead>\n",
              "  <tbody>\n",
              "    <tr>\n",
              "      <th>0</th>\n",
              "      <td>1</td>\n",
              "      <td>Cowboy Bebop</td>\n",
              "      <td>Cowboy Bebop</td>\n",
              "      <td>カウボーイビバップ</td>\n",
              "      <td>8.75</td>\n",
              "      <td>Action, Award Winning, Sci-Fi</td>\n",
              "      <td>Crime is timeless. By the year 2071, humanity ...</td>\n",
              "      <td>TV</td>\n",
              "      <td>26.0</td>\n",
              "      <td>Apr 3, 1998 to Apr 24, 1999</td>\n",
              "      <td>...</td>\n",
              "      <td>Sunrise</td>\n",
              "      <td>Original</td>\n",
              "      <td>24 min per ep</td>\n",
              "      <td>R - 17+ (violence &amp; profanity)</td>\n",
              "      <td>41.0</td>\n",
              "      <td>43</td>\n",
              "      <td>78525</td>\n",
              "      <td>914193.0</td>\n",
              "      <td>1771505</td>\n",
              "      <td>https://cdn.myanimelist.net/images/anime/4/196...</td>\n",
              "    </tr>\n",
              "    <tr>\n",
              "      <th>1</th>\n",
              "      <td>5</td>\n",
              "      <td>Cowboy Bebop: Tengoku no Tobira</td>\n",
              "      <td>Cowboy Bebop: The Movie</td>\n",
              "      <td>カウボーイビバップ 天国の扉</td>\n",
              "      <td>8.38</td>\n",
              "      <td>Action, Sci-Fi</td>\n",
              "      <td>Another day, another bounty—such is the life o...</td>\n",
              "      <td>Movie</td>\n",
              "      <td>1.0</td>\n",
              "      <td>Sep 1, 2001</td>\n",
              "      <td>...</td>\n",
              "      <td>Bones</td>\n",
              "      <td>Original</td>\n",
              "      <td>1 hr 55 min</td>\n",
              "      <td>R - 17+ (violence &amp; profanity)</td>\n",
              "      <td>189.0</td>\n",
              "      <td>602</td>\n",
              "      <td>1448</td>\n",
              "      <td>206248.0</td>\n",
              "      <td>360978</td>\n",
              "      <td>https://cdn.myanimelist.net/images/anime/1439/...</td>\n",
              "    </tr>\n",
              "    <tr>\n",
              "      <th>2</th>\n",
              "      <td>6</td>\n",
              "      <td>Trigun</td>\n",
              "      <td>Trigun</td>\n",
              "      <td>トライガン</td>\n",
              "      <td>8.22</td>\n",
              "      <td>Action, Adventure, Sci-Fi</td>\n",
              "      <td>Vash the Stampede is the man with a $$60,000,0...</td>\n",
              "      <td>TV</td>\n",
              "      <td>26.0</td>\n",
              "      <td>Apr 1, 1998 to Sep 30, 1998</td>\n",
              "      <td>...</td>\n",
              "      <td>Madhouse</td>\n",
              "      <td>Manga</td>\n",
              "      <td>24 min per ep</td>\n",
              "      <td>PG-13 - Teens 13 or older</td>\n",
              "      <td>328.0</td>\n",
              "      <td>246</td>\n",
              "      <td>15035</td>\n",
              "      <td>356739.0</td>\n",
              "      <td>727252</td>\n",
              "      <td>https://cdn.myanimelist.net/images/anime/7/203...</td>\n",
              "    </tr>\n",
              "    <tr>\n",
              "      <th>3</th>\n",
              "      <td>7</td>\n",
              "      <td>Witch Hunter Robin</td>\n",
              "      <td>Witch Hunter Robin</td>\n",
              "      <td>Witch Hunter ROBIN (ウイッチハンターロビン)</td>\n",
              "      <td>7.25</td>\n",
              "      <td>Action, Drama, Mystery, Supernatural</td>\n",
              "      <td>Robin Sena is a powerful craft user drafted in...</td>\n",
              "      <td>TV</td>\n",
              "      <td>26.0</td>\n",
              "      <td>Jul 3, 2002 to Dec 25, 2002</td>\n",
              "      <td>...</td>\n",
              "      <td>Sunrise</td>\n",
              "      <td>Original</td>\n",
              "      <td>25 min per ep</td>\n",
              "      <td>PG-13 - Teens 13 or older</td>\n",
              "      <td>2764.0</td>\n",
              "      <td>1795</td>\n",
              "      <td>613</td>\n",
              "      <td>42829.0</td>\n",
              "      <td>111931</td>\n",
              "      <td>https://cdn.myanimelist.net/images/anime/10/19...</td>\n",
              "    </tr>\n",
              "    <tr>\n",
              "      <th>4</th>\n",
              "      <td>8</td>\n",
              "      <td>Bouken Ou Beet</td>\n",
              "      <td>Beet the Vandel Buster</td>\n",
              "      <td>冒険王ビィト</td>\n",
              "      <td>6.94</td>\n",
              "      <td>Adventure, Fantasy, Supernatural</td>\n",
              "      <td>It is the dark century and the people are suff...</td>\n",
              "      <td>TV</td>\n",
              "      <td>52.0</td>\n",
              "      <td>Sep 30, 2004 to Sep 29, 2005</td>\n",
              "      <td>...</td>\n",
              "      <td>Toei Animation</td>\n",
              "      <td>Manga</td>\n",
              "      <td>23 min per ep</td>\n",
              "      <td>PG - Children</td>\n",
              "      <td>4240.0</td>\n",
              "      <td>5126</td>\n",
              "      <td>14</td>\n",
              "      <td>6413.0</td>\n",
              "      <td>15001</td>\n",
              "      <td>https://cdn.myanimelist.net/images/anime/7/215...</td>\n",
              "    </tr>\n",
              "  </tbody>\n",
              "</table>\n",
              "<p>5 rows × 24 columns</p>\n",
              "</div>"
            ],
            "text/plain": [
              "   anime_id                             Name             English name  \\\n",
              "0         1                     Cowboy Bebop             Cowboy Bebop   \n",
              "1         5  Cowboy Bebop: Tengoku no Tobira  Cowboy Bebop: The Movie   \n",
              "2         6                           Trigun                   Trigun   \n",
              "3         7               Witch Hunter Robin       Witch Hunter Robin   \n",
              "4         8                   Bouken Ou Beet   Beet the Vandel Buster   \n",
              "\n",
              "                         Other name Score  \\\n",
              "0                         カウボーイビバップ  8.75   \n",
              "1                    カウボーイビバップ 天国の扉  8.38   \n",
              "2                             トライガン  8.22   \n",
              "3  Witch Hunter ROBIN (ウイッチハンターロビン)  7.25   \n",
              "4                            冒険王ビィト  6.94   \n",
              "\n",
              "                                 Genres  \\\n",
              "0         Action, Award Winning, Sci-Fi   \n",
              "1                        Action, Sci-Fi   \n",
              "2             Action, Adventure, Sci-Fi   \n",
              "3  Action, Drama, Mystery, Supernatural   \n",
              "4      Adventure, Fantasy, Supernatural   \n",
              "\n",
              "                                            Synopsis   Type Episodes  \\\n",
              "0  Crime is timeless. By the year 2071, humanity ...     TV     26.0   \n",
              "1  Another day, another bounty—such is the life o...  Movie      1.0   \n",
              "2  Vash the Stampede is the man with a $$60,000,0...     TV     26.0   \n",
              "3  Robin Sena is a powerful craft user drafted in...     TV     26.0   \n",
              "4  It is the dark century and the people are suff...     TV     52.0   \n",
              "\n",
              "                          Aired  ...         Studios    Source       Duration  \\\n",
              "0   Apr 3, 1998 to Apr 24, 1999  ...         Sunrise  Original  24 min per ep   \n",
              "1                   Sep 1, 2001  ...           Bones  Original    1 hr 55 min   \n",
              "2   Apr 1, 1998 to Sep 30, 1998  ...        Madhouse     Manga  24 min per ep   \n",
              "3   Jul 3, 2002 to Dec 25, 2002  ...         Sunrise  Original  25 min per ep   \n",
              "4  Sep 30, 2004 to Sep 29, 2005  ...  Toei Animation     Manga  23 min per ep   \n",
              "\n",
              "                           Rating    Rank Popularity Favorites Scored By  \\\n",
              "0  R - 17+ (violence & profanity)    41.0         43     78525  914193.0   \n",
              "1  R - 17+ (violence & profanity)   189.0        602      1448  206248.0   \n",
              "2       PG-13 - Teens 13 or older   328.0        246     15035  356739.0   \n",
              "3       PG-13 - Teens 13 or older  2764.0       1795       613   42829.0   \n",
              "4                   PG - Children  4240.0       5126        14    6413.0   \n",
              "\n",
              "   Members                                          Image URL  \n",
              "0  1771505  https://cdn.myanimelist.net/images/anime/4/196...  \n",
              "1   360978  https://cdn.myanimelist.net/images/anime/1439/...  \n",
              "2   727252  https://cdn.myanimelist.net/images/anime/7/203...  \n",
              "3   111931  https://cdn.myanimelist.net/images/anime/10/19...  \n",
              "4    15001  https://cdn.myanimelist.net/images/anime/7/215...  \n",
              "\n",
              "[5 rows x 24 columns]"
            ]
          },
          "execution_count": 9,
          "metadata": {},
          "output_type": "execute_result"
        }
      ],
      "source": [
        "df.head()"
      ]
    },
    {
      "cell_type": "code",
      "execution_count": 10,
      "metadata": {
        "colab": {
          "base_uri": "https://localhost:8080/"
        },
        "id": "ui65zDst6yBl",
        "outputId": "bc86ccc4-479c-4c67-986f-f4fc109ae372"
      },
      "outputs": [
        {
          "name": "stdout",
          "output_type": "stream",
          "text": [
            "<class 'pandas.core.frame.DataFrame'>\n",
            "RangeIndex: 24905 entries, 0 to 24904\n",
            "Data columns (total 24 columns):\n",
            " #   Column        Non-Null Count  Dtype \n",
            "---  ------        --------------  ----- \n",
            " 0   anime_id      24905 non-null  int64 \n",
            " 1   Name          24905 non-null  object\n",
            " 2   English name  24905 non-null  object\n",
            " 3   Other name    24905 non-null  object\n",
            " 4   Score         24905 non-null  object\n",
            " 5   Genres        24905 non-null  object\n",
            " 6   Synopsis      24905 non-null  object\n",
            " 7   Type          24905 non-null  object\n",
            " 8   Episodes      24905 non-null  object\n",
            " 9   Aired         24905 non-null  object\n",
            " 10  Premiered     24905 non-null  object\n",
            " 11  Status        24905 non-null  object\n",
            " 12  Producers     24905 non-null  object\n",
            " 13  Licensors     24905 non-null  object\n",
            " 14  Studios       24905 non-null  object\n",
            " 15  Source        24905 non-null  object\n",
            " 16  Duration      24905 non-null  object\n",
            " 17  Rating        24905 non-null  object\n",
            " 18  Rank          24905 non-null  object\n",
            " 19  Popularity    24905 non-null  int64 \n",
            " 20  Favorites     24905 non-null  int64 \n",
            " 21  Scored By     24905 non-null  object\n",
            " 22  Members       24905 non-null  int64 \n",
            " 23  Image URL     24905 non-null  object\n",
            "dtypes: int64(4), object(20)\n",
            "memory usage: 4.6+ MB\n"
          ]
        }
      ],
      "source": [
        "df.info()"
      ]
    },
    {
      "cell_type": "code",
      "execution_count": 11,
      "metadata": {
        "colab": {
          "base_uri": "https://localhost:8080/",
          "height": 241
        },
        "id": "QUdkkr_tCwsy",
        "outputId": "aecfe4e4-254a-4c9d-e743-0b367220115d"
      },
      "outputs": [
        {
          "data": {
            "text/plain": [
              "anime_id     0\n",
              "Name         0\n",
              "Members      0\n",
              "Scored By    0\n",
              "Favorites    0\n",
              "dtype: int64"
            ]
          },
          "execution_count": 11,
          "metadata": {},
          "output_type": "execute_result"
        }
      ],
      "source": [
        "missing_values = df.isnull().sum().sort_values(ascending=False)\n",
        "missing_values.head()"
      ]
    },
    {
      "cell_type": "markdown",
      "metadata": {
        "id": "12mJplERZtym"
      },
      "source": [
        "Cek unknown data"
      ]
    },
    {
      "cell_type": "code",
      "execution_count": 12,
      "metadata": {
        "colab": {
          "base_uri": "https://localhost:8080/"
        },
        "id": "R7e7XT0nCyNE",
        "outputId": "5c5fd600-99b5-47a0-b6c3-a4c52c11e78f"
      },
      "outputs": [
        {
          "name": "stdout",
          "output_type": "stream",
          "text": [
            "Column 'English name' has 14577 'UNKNOWN' values\n",
            "Column 'Other name' has 128 'UNKNOWN' values\n",
            "Column 'Score' has 9213 'UNKNOWN' values\n",
            "Column 'Genres' has 4929 'UNKNOWN' values\n",
            "Column 'Type' has 74 'UNKNOWN' values\n",
            "Column 'Episodes' has 611 'UNKNOWN' values\n",
            "Column 'Premiered' has 19399 'UNKNOWN' values\n",
            "Column 'Producers' has 13350 'UNKNOWN' values\n",
            "Column 'Licensors' has 20170 'UNKNOWN' values\n",
            "Column 'Studios' has 10526 'UNKNOWN' values\n",
            "Column 'Rating' has 669 'UNKNOWN' values\n",
            "Column 'Rank' has 4612 'UNKNOWN' values\n",
            "Column 'Scored By' has 9213 'UNKNOWN' values\n"
          ]
        }
      ],
      "source": [
        "for col in df.columns:\n",
        "    if df[col].dtype == object:\n",
        "        unknown_mask = df[col] == 'UNKNOWN'\n",
        "        if unknown_mask.any():\n",
        "            print(f\"Column '{col}' has {unknown_mask.sum()} 'UNKNOWN' values\")"
      ]
    },
    {
      "cell_type": "markdown",
      "metadata": {
        "id": "SPvuIhLEjO8-"
      },
      "source": [
        "Convert Favorites, Popularity, Members, Scored By, Score, Episodes to numeric"
      ]
    },
    {
      "cell_type": "code",
      "execution_count": 13,
      "metadata": {
        "id": "tkfuUhasjP5C"
      },
      "outputs": [],
      "source": [
        "numeric_cols = ['Favorites', 'Popularity', 'Members', 'Scored By', 'Score', 'Episodes']\n",
        "for col in numeric_cols:\n",
        "    if col in df.columns:\n",
        "        df[col] = pd.to_numeric(df[col].replace('UNKNOWN', np.nan), errors='coerce')"
      ]
    },
    {
      "cell_type": "markdown",
      "metadata": {
        "id": "YOWy9PbWaeK2"
      },
      "source": [
        "Fill the missing Values"
      ]
    },
    {
      "cell_type": "code",
      "execution_count": 14,
      "metadata": {
        "id": "SS7VDuvC6nq7"
      },
      "outputs": [],
      "source": [
        "median_episodes = df.groupby('Type')['Episodes'].transform('median')\n",
        "df['Episodes'].fillna(median_episodes, inplace=True)\n",
        "df['Episodes'].fillna(df['Episodes'].median(), inplace=True)"
      ]
    },
    {
      "cell_type": "markdown",
      "metadata": {
        "id": "2G3ab1e9koLo"
      },
      "source": [
        " Drop rows with missing scores"
      ]
    },
    {
      "cell_type": "code",
      "execution_count": 15,
      "metadata": {
        "colab": {
          "base_uri": "https://localhost:8080/"
        },
        "id": "t8vpaSPHkwwU",
        "outputId": "53703210-ea07-45f4-f6fe-31143e0d29d8"
      },
      "outputs": [
        {
          "name": "stdout",
          "output_type": "stream",
          "text": [
            "Dataset shape after handling critical missing values: (13938, 24)\n"
          ]
        }
      ],
      "source": [
        "df.dropna(subset=['Score', \"Scored By\"], inplace=True)\n",
        "df = df[(df['Genres'] != 'UNKNOWN') & (df['Synopsis'] != 'UNKNOWN') & (df['Type'] != \"UNKNOWN\")]\n",
        "\n",
        "print(f\"Dataset shape after handling critical missing values: {df.shape}\")"
      ]
    },
    {
      "cell_type": "code",
      "execution_count": 16,
      "metadata": {
        "id": "MRidD2oeEq1F"
      },
      "outputs": [],
      "source": [
        "df.replace('UNKNOWN', pd.NA, inplace=True)\n",
        "df['Studios'].fillna('No data', inplace=True)\n",
        "df['Producers'].fillna('No data', inplace=True)\n",
        "df['Rating'].fillna(\"NO data\", inplace = True)"
      ]
    },
    {
      "cell_type": "markdown",
      "metadata": {
        "id": "bjN7SbQCk5vS"
      },
      "source": [
        "Make sure English name is filled if available, If English name is empty but Name exists, use Name"
      ]
    },
    {
      "cell_type": "code",
      "execution_count": 17,
      "metadata": {
        "id": "z4FS2FS1CoBu"
      },
      "outputs": [],
      "source": [
        "if \"English name\" in df.columns:\n",
        "    mask = df[\"English name\"].isna() | (df[\"English name\"] == \"UNKNOWN\")\n",
        "    df.loc[mask, \"English name\"] = df.loc[mask, \"Name\"]"
      ]
    },
    {
      "cell_type": "code",
      "execution_count": 18,
      "metadata": {
        "colab": {
          "base_uri": "https://localhost:8080/"
        },
        "id": "yEQ8C7NrVW11",
        "outputId": "5f37807d-4646-47a1-d378-f9e5745b02fb"
      },
      "outputs": [
        {
          "name": "stdout",
          "output_type": "stream",
          "text": [
            "Dataset shape after handling critical missing values: (13938, 24)\n"
          ]
        }
      ],
      "source": [
        "print(f\"Dataset shape after handling critical missing values: {df.shape}\")"
      ]
    },
    {
      "cell_type": "code",
      "execution_count": 19,
      "metadata": {
        "colab": {
          "base_uri": "https://localhost:8080/",
          "height": 241
        },
        "id": "TMo020OK-aLv",
        "outputId": "fd9aaf3c-3022-48f7-f182-603a04b249ce"
      },
      "outputs": [
        {
          "data": {
            "text/plain": [
              "Premiered     69.048644\n",
              "Licensors     66.616444\n",
              "Rank          13.696370\n",
              "Other name     0.229588\n",
              "anime_id       0.000000\n",
              "dtype: float64"
            ]
          },
          "execution_count": 19,
          "metadata": {},
          "output_type": "execute_result"
        }
      ],
      "source": [
        "missing_percentage = df.isnull().mean().sort_values(ascending=False) * 100\n",
        "missing_percentage.head()"
      ]
    },
    {
      "cell_type": "markdown",
      "metadata": {
        "id": "OkNeUg61nh_j"
      },
      "source": [
        "Drop the 4 columns, because not important and also have missing values more than 50%"
      ]
    },
    {
      "cell_type": "code",
      "execution_count": 20,
      "metadata": {
        "id": "NrufLsjTnW9X"
      },
      "outputs": [],
      "source": [
        "drop_cols = ['Premiered', 'Licensors', 'Rank', 'Other name']\n",
        "df.drop(drop_cols, axis=1, inplace=True)"
      ]
    },
    {
      "cell_type": "code",
      "execution_count": 21,
      "metadata": {
        "colab": {
          "base_uri": "https://localhost:8080/",
          "height": 335
        },
        "id": "DYvmozKh61j9",
        "outputId": "bbd781dc-aa54-454a-ffb0-b73850088d02"
      },
      "outputs": [
        {
          "name": "stdout",
          "output_type": "stream",
          "text": [
            "\n",
            "--- Basic Exploratory Data Analysis ---\n"
          ]
        },
        {
          "data": {
            "text/html": [
              "<div>\n",
              "<style scoped>\n",
              "    .dataframe tbody tr th:only-of-type {\n",
              "        vertical-align: middle;\n",
              "    }\n",
              "\n",
              "    .dataframe tbody tr th {\n",
              "        vertical-align: top;\n",
              "    }\n",
              "\n",
              "    .dataframe thead th {\n",
              "        text-align: right;\n",
              "    }\n",
              "</style>\n",
              "<table border=\"1\" class=\"dataframe\">\n",
              "  <thead>\n",
              "    <tr style=\"text-align: right;\">\n",
              "      <th></th>\n",
              "      <th>anime_id</th>\n",
              "      <th>Score</th>\n",
              "      <th>Episodes</th>\n",
              "      <th>Popularity</th>\n",
              "      <th>Favorites</th>\n",
              "      <th>Scored By</th>\n",
              "      <th>Members</th>\n",
              "    </tr>\n",
              "  </thead>\n",
              "  <tbody>\n",
              "    <tr>\n",
              "      <th>count</th>\n",
              "      <td>13938.000000</td>\n",
              "      <td>13938.000000</td>\n",
              "      <td>13938.000000</td>\n",
              "      <td>13938.000000</td>\n",
              "      <td>13938.000000</td>\n",
              "      <td>1.393800e+04</td>\n",
              "      <td>1.393800e+04</td>\n",
              "    </tr>\n",
              "    <tr>\n",
              "      <th>mean</th>\n",
              "      <td>20767.431769</td>\n",
              "      <td>6.446937</td>\n",
              "      <td>11.916344</td>\n",
              "      <td>7553.738198</td>\n",
              "      <td>767.991606</td>\n",
              "      <td>3.356810e+04</td>\n",
              "      <td>6.524621e+04</td>\n",
              "    </tr>\n",
              "    <tr>\n",
              "      <th>std</th>\n",
              "      <td>16808.826683</td>\n",
              "      <td>0.925967</td>\n",
              "      <td>46.615609</td>\n",
              "      <td>4624.738272</td>\n",
              "      <td>5796.653876</td>\n",
              "      <td>1.235876e+05</td>\n",
              "      <td>2.051469e+05</td>\n",
              "    </tr>\n",
              "    <tr>\n",
              "      <th>min</th>\n",
              "      <td>1.000000</td>\n",
              "      <td>1.850000</td>\n",
              "      <td>1.000000</td>\n",
              "      <td>1.000000</td>\n",
              "      <td>0.000000</td>\n",
              "      <td>1.000000e+02</td>\n",
              "      <td>1.800000e+02</td>\n",
              "    </tr>\n",
              "    <tr>\n",
              "      <th>25%</th>\n",
              "      <td>4215.000000</td>\n",
              "      <td>5.830000</td>\n",
              "      <td>1.000000</td>\n",
              "      <td>3571.500000</td>\n",
              "      <td>2.000000</td>\n",
              "      <td>5.170000e+02</td>\n",
              "      <td>1.604250e+03</td>\n",
              "    </tr>\n",
              "    <tr>\n",
              "      <th>50%</th>\n",
              "      <td>17310.000000</td>\n",
              "      <td>6.460000</td>\n",
              "      <td>2.000000</td>\n",
              "      <td>7338.500000</td>\n",
              "      <td>10.000000</td>\n",
              "      <td>2.285000e+03</td>\n",
              "      <td>6.194500e+03</td>\n",
              "    </tr>\n",
              "    <tr>\n",
              "      <th>75%</th>\n",
              "      <td>36042.250000</td>\n",
              "      <td>7.120000</td>\n",
              "      <td>12.000000</td>\n",
              "      <td>11270.750000</td>\n",
              "      <td>80.000000</td>\n",
              "      <td>1.405475e+04</td>\n",
              "      <td>3.404775e+04</td>\n",
              "    </tr>\n",
              "    <tr>\n",
              "      <th>max</th>\n",
              "      <td>55647.000000</td>\n",
              "      <td>9.100000</td>\n",
              "      <td>3057.000000</td>\n",
              "      <td>19191.000000</td>\n",
              "      <td>217606.000000</td>\n",
              "      <td>2.660903e+06</td>\n",
              "      <td>3.744541e+06</td>\n",
              "    </tr>\n",
              "  </tbody>\n",
              "</table>\n",
              "</div>"
            ],
            "text/plain": [
              "           anime_id         Score      Episodes    Popularity      Favorites  \\\n",
              "count  13938.000000  13938.000000  13938.000000  13938.000000   13938.000000   \n",
              "mean   20767.431769      6.446937     11.916344   7553.738198     767.991606   \n",
              "std    16808.826683      0.925967     46.615609   4624.738272    5796.653876   \n",
              "min        1.000000      1.850000      1.000000      1.000000       0.000000   \n",
              "25%     4215.000000      5.830000      1.000000   3571.500000       2.000000   \n",
              "50%    17310.000000      6.460000      2.000000   7338.500000      10.000000   \n",
              "75%    36042.250000      7.120000     12.000000  11270.750000      80.000000   \n",
              "max    55647.000000      9.100000   3057.000000  19191.000000  217606.000000   \n",
              "\n",
              "          Scored By       Members  \n",
              "count  1.393800e+04  1.393800e+04  \n",
              "mean   3.356810e+04  6.524621e+04  \n",
              "std    1.235876e+05  2.051469e+05  \n",
              "min    1.000000e+02  1.800000e+02  \n",
              "25%    5.170000e+02  1.604250e+03  \n",
              "50%    2.285000e+03  6.194500e+03  \n",
              "75%    1.405475e+04  3.404775e+04  \n",
              "max    2.660903e+06  3.744541e+06  "
            ]
          },
          "execution_count": 21,
          "metadata": {},
          "output_type": "execute_result"
        }
      ],
      "source": [
        "# Basic EDA\n",
        "print(\"\\n--- Basic Exploratory Data Analysis ---\")\n",
        "df.describe()"
      ]
    },
    {
      "cell_type": "code",
      "execution_count": 22,
      "metadata": {
        "colab": {
          "base_uri": "https://localhost:8080/",
          "height": 803
        },
        "id": "axldqOl_HjVu",
        "outputId": "383340a6-2bf4-414b-b616-1c9e2af4d164"
      },
      "outputs": [
        {
          "data": {
            "image/png": "[encoded data removed]",
            "text/plain": [
              "<Figure size 800x400 with 1 Axes>"
            ]
          },
          "metadata": {},
          "output_type": "display_data"
        },
        {
          "data": {
            "image/png": "[encoded data removed]",
            "text/plain": [
              "<Figure size 800x400 with 1 Axes>"
            ]
          },
          "metadata": {},
          "output_type": "display_data"
        }
      ],
      "source": [
        "for column in ['Score', 'Popularity']:\n",
        "    plt.figure(figsize=(8, 4))\n",
        "    sns.histplot(df[column], kde=True)\n",
        "    plt.title(f'Distribution of {column}')\n",
        "    plt.xlabel(column)\n",
        "    plt.ylabel('Frequency')\n",
        "    plt.show()\n"
      ]
    },
    {
      "cell_type": "code",
      "execution_count": 23,
      "metadata": {
        "colab": {
          "base_uri": "https://localhost:8080/",
          "height": 699
        },
        "id": "oFimXiqwHnCy",
        "outputId": "4f66518f-5149-47cb-affa-f6f8c2dcb94b"
      },
      "outputs": [
        {
          "data": {
            "image/png": "[encoded data removed]",
            "text/plain": [
              "<Figure size 1000x800 with 2 Axes>"
            ]
          },
          "metadata": {},
          "output_type": "display_data"
        }
      ],
      "source": [
        "plt.figure(figsize=(10, 8))\n",
        "sns.heatmap(df[['Score', 'Popularity', 'Favorites', 'Scored By', 'Members']].corr(), annot=True, cmap='coolwarm')\n",
        "plt.title('Correlation Matrix')\n",
        "plt.show()"
      ]
    },
    {
      "cell_type": "code",
      "execution_count": 24,
      "metadata": {
        "colab": {
          "base_uri": "https://localhost:8080/",
          "height": 1000
        },
        "id": "8Nj9X2CyH2cl",
        "outputId": "a53c5c34-37fa-4b35-983d-023ccf9587f2"
      },
      "outputs": [
        {
          "data": {
            "image/png": "[encoded data removed]",
            "text/plain": [
              "<Figure size 640x480 with 1 Axes>"
            ]
          },
          "metadata": {},
          "output_type": "display_data"
        },
        {
          "data": {
            "image/png": "[encoded data removed]",
            "text/plain": [
              "<Figure size 640x480 with 1 Axes>"
            ]
          },
          "metadata": {},
          "output_type": "display_data"
        }
      ],
      "source": [
        "sns.countplot(data=df, x='Type')\n",
        "plt.title('Anime Type Distribution')\n",
        "plt.xticks(rotation=45)\n",
        "plt.show()\n",
        "sns.countplot(data=df, x='Rating')\n",
        "plt.title('Content Rating Distribution')\n",
        "plt.xticks(rotation=83)\n",
        "plt.show()"
      ]
    },
    {
      "cell_type": "code",
      "execution_count": 25,
      "metadata": {
        "colab": {
          "base_uri": "https://localhost:8080/"
        },
        "id": "Xxu1ulSUCe6h",
        "outputId": "cd8153b8-9f54-45d7-f4f8-6739f6b3ce84"
      },
      "outputs": [
        {
          "data": {
            "text/plain": [
              "Index(['anime_id', 'Name', 'English name', 'Score', 'Genres', 'Synopsis',\n",
              "       'Type', 'Episodes', 'Aired', 'Status', 'Producers', 'Studios', 'Source',\n",
              "       'Duration', 'Rating', 'Popularity', 'Favorites', 'Scored By', 'Members',\n",
              "       'Image URL'],\n",
              "      dtype='object')"
            ]
          },
          "execution_count": 25,
          "metadata": {},
          "output_type": "execute_result"
        }
      ],
      "source": [
        "df.columns"
      ]
    },
    {
      "cell_type": "markdown",
      "metadata": {
        "id": "p6lf_1npuhcS"
      },
      "source": [
        "# PRE PROCESSING"
      ]
    },
    {
      "cell_type": "markdown",
      "metadata": {
        "id": "MkYHg2xaXAyc"
      },
      "source": [
        "## Feature Selection"
      ]
    },
    {
      "cell_type": "code",
      "execution_count": 26,
      "metadata": {
        "id": "_eIi_TCD6TOT"
      },
      "outputs": [],
      "source": [
        "feature_columns = ['anime_id', 'Name', 'English name', 'Score', 'Genres', 'Synopsis',\n",
        "       'Type', 'Episodes', 'Aired', 'Producers', 'Studios', 'Source',\n",
        "       'Duration', 'Rating', 'Popularity', 'Favorites', 'Scored By', 'Members',\n",
        "       'Image URL']"
      ]
    },
    {
      "cell_type": "markdown",
      "metadata": {
        "id": "rq7JSQTcXKNg"
      },
      "source": [
        "Use only columns that exist in the dataset"
      ]
    },
    {
      "cell_type": "code",
      "execution_count": 27,
      "metadata": {
        "colab": {
          "base_uri": "https://localhost:8080/"
        },
        "id": "DGHtHXT86UqK",
        "outputId": "70bf46f9-90ea-42f8-9835-5b282bb46b09"
      },
      "outputs": [
        {
          "name": "stdout",
          "output_type": "stream",
          "text": [
            "Selected features: ['anime_id', 'Name', 'English name', 'Score', 'Genres', 'Synopsis', 'Type', 'Episodes', 'Aired', 'Producers', 'Studios', 'Source', 'Duration', 'Rating', 'Popularity', 'Favorites', 'Scored By', 'Members', 'Image URL']\n"
          ]
        }
      ],
      "source": [
        "available_columns = [col for col in feature_columns if col in df.columns]\n",
        "animes = df[available_columns].copy()\n",
        "print(f\"Selected features: {animes.columns.tolist()}\")"
      ]
    },
    {
      "cell_type": "markdown",
      "metadata": {
        "id": "uxSkqAKf1PLm"
      },
      "source": [
        "## Text Preprocessing"
      ]
    },
    {
      "cell_type": "code",
      "execution_count": 28,
      "metadata": {
        "colab": {
          "base_uri": "https://localhost:8080/"
        },
        "id": "_9jPYSDz6aTf",
        "outputId": "ea90f0c9-9972-4bee-c9fe-95a407ac4ca5"
      },
      "outputs": [
        {
          "name": "stdout",
          "output_type": "stream",
          "text": [
            "\n",
            "--- Text Preprocessing ---\n",
            "Text preprocessing completed\n"
          ]
        }
      ],
      "source": [
        "def preprocess_text(text):\n",
        "    if not isinstance(text, str) or text == \"UNKNOWN\":\n",
        "        return \"\"\n",
        "    text = text.lower()\n",
        "    text = re.sub(r'[^a-zA-Z0-9\\s]', ' ', text)\n",
        "    text = re.sub(r'\\s+', ' ', text).strip()\n",
        "    words = text.split()\n",
        "    stop_words = set(stopwords.words('english'))\n",
        "    words = [word for word in words if word not in stop_words]\n",
        "    ps = PorterStemmer()\n",
        "    words = [ps.stem(word) for word in words]\n",
        "    return ' '.join(words)\n",
        "\n",
        "print(\"\\n--- Text Preprocessing ---\")\n",
        "text_columns = ['Synopsis', 'Type']\n",
        "for col in text_columns:\n",
        "    if col in animes.columns:\n",
        "        animes[f'processed_{col.lower()}'] = animes[col].astype(str).apply(preprocess_text)\n",
        "\n",
        "print(\"Text preprocessing completed\")"
      ]
    },
    {
      "cell_type": "markdown",
      "metadata": {
        "id": "SJ6LHLmf1Uy7"
      },
      "source": [
        "## Vectorization using TF-IDF"
      ]
    },
    {
      "cell_type": "code",
      "execution_count": 29,
      "metadata": {
        "id": "L-8ugikw6hGe"
      },
      "outputs": [],
      "source": [
        "tfidf_genres = TfidfVectorizer(tokenizer=lambda x: x.split(', '))\n",
        "genres_vec = tfidf_genres.fit_transform(animes['Genres'])\n",
        "\n",
        "tfidf_synopsis = TfidfVectorizer(\n",
        "    max_features=5000,\n",
        "    ngram_range=(1, 2),\n",
        "    sublinear_tf=True\n",
        ")\n",
        "synopsis_vec = tfidf_synopsis.fit_transform(animes['processed_synopsis'])\n"
      ]
    },
    {
      "cell_type": "markdown",
      "metadata": {
        "id": "OcG0Oa9t1fXR"
      },
      "source": [
        "## Normalization and Encoding"
      ]
    },
    {
      "cell_type": "code",
      "execution_count": 30,
      "metadata": {
        "id": "pkC_BU_apjgJ"
      },
      "outputs": [],
      "source": [
        "scaler = MinMaxScaler()\n",
        "normalized = scaler.fit_transform(animes[['Score', 'Popularity', 'Favorites', 'Scored By', 'Members']])\n",
        "normalized_sparse = csr_matrix(normalized)\n",
        "\n",
        "encoder = OneHotEncoder(handle_unknown='ignore')\n",
        "cat_encoded = encoder.fit_transform(animes[['Type']])"
      ]
    },
    {
      "cell_type": "markdown",
      "metadata": {
        "id": "qKrhgIaS1lRR"
      },
      "source": [
        "## Combine all feature vectors"
      ]
    },
    {
      "cell_type": "code",
      "execution_count": 31,
      "metadata": {
        "colab": {
          "base_uri": "https://localhost:8080/"
        },
        "id": "Zl1BUd6H1oQC",
        "outputId": "e9dcbffd-16cb-4c68-8c87-f27cc7cb500f"
      },
      "outputs": [
        {
          "name": "stdout",
          "output_type": "stream",
          "text": [
            "Final vector shape: (13938, 5032)\n"
          ]
        }
      ],
      "source": [
        "final_vectors = hstack([genres_vec, synopsis_vec, cat_encoded, normalized_sparse])\n",
        "print(f\"Final vector shape: {final_vectors.shape}\")"
      ]
    },
    {
      "cell_type": "markdown",
      "metadata": {
        "id": "z1ryhQzu1tIJ"
      },
      "source": [
        "Calculate similarity matrix"
      ]
    },
    {
      "cell_type": "code",
      "execution_count": 32,
      "metadata": {
        "colab": {
          "base_uri": "https://localhost:8080/"
        },
        "id": "usZcBbGj6hQf",
        "outputId": "2b395a77-eb8c-4354-f673-4f7e7b7d1401"
      },
      "outputs": [
        {
          "name": "stdout",
          "output_type": "stream",
          "text": [
            "Similarity matrix shape: (13938, 13938)\n"
          ]
        }
      ],
      "source": [
        "similarity = cosine_similarity(final_vectors)\n",
        "print(f\"Similarity matrix shape: {similarity.shape}\")"
      ]
    },
    {
      "cell_type": "markdown",
      "metadata": {
        "id": "EW01urNpvFwc"
      },
      "source": [
        "Display Function"
      ]
    },
    {
      "cell_type": "code",
      "execution_count": 33,
      "metadata": {
        "id": "Z3NpGmYy6nq0"
      },
      "outputs": [],
      "source": [
        "def display_recommendations(recommendations, user_favorites=None):\n",
        "\n",
        "    if recommendations.empty:\n",
        "        return\n",
        "\n",
        "    print(\"\\n========== ANIME RECOMMENDATIONS ==========\\n\")\n",
        "\n",
        "    if user_favorites and len(user_favorites) > 0:\n",
        "        print(\"Based on your favorites:\")\n",
        "        for i, fav in enumerate(user_favorites, 1):\n",
        "            print(f\"  {i}. {fav}\")\n",
        "        print(\"\")\n",
        "\n",
        "\n",
        "    for i, (_, row) in enumerate(recommendations.iterrows(), 1):\n",
        "        print(f\"{i}. {row['Name']}\")\n",
        "        print(f\"   Genre: {row['Genres']}\")\n",
        "        print(f\"   Type: {row['Type']} | Episodes: {row['Episodes']} | Score: {row['Score']:.2f}\")\n",
        "        if 'collab_score' in row:\n",
        "           print(f\"   Collaborative Score: {row['collab_score']:.4f}\")\n",
        "        elif 'similarity_score' in row:\n",
        "           print(f\"   Similarity Score: {row['similarity_score']:.4f}\")\n",
        "        print(\"-\" * 50)"
      ]
    },
    {
      "cell_type": "markdown",
      "metadata": {
        "id": "xdrtUPOU1xFl"
      },
      "source": [
        "# Content-Based Filtering"
      ]
    },
    {
      "cell_type": "code",
      "execution_count": 34,
      "metadata": {
        "id": "S7XvhbNN6kjX"
      },
      "outputs": [],
      "source": [
        "import difflib\n",
        "\n",
        "def recommend_anime(title, top_n=5, similarity_matrix=similarity, anime_df=animes):\n",
        "    title = title.lower()\n",
        "\n",
        "    match = anime_df[anime_df['Name'].str.lower() == title]\n",
        "    if match.empty:\n",
        "        match = anime_df[anime_df['English name'].str.lower() == title]\n",
        "\n",
        "    if match.empty:\n",
        "        all_titles = anime_df['Name'].str.lower().tolist()\n",
        "        closest_matches = difflib.get_close_matches(title, all_titles, n=1)\n",
        "        if not closest_matches:\n",
        "            print(f\"No anime found with title similar to '{title}'\")\n",
        "            return pd.DataFrame()\n",
        "        print(f\"No exact match found. Using closest match: {closest_matches[0]}\")\n",
        "        match = anime_df[anime_df['Name'].str.lower() == closest_matches[0]]\n",
        "\n",
        "    idx = match.index[0]\n",
        "\n",
        "    sim_scores = list(enumerate(similarity_matrix[idx]))\n",
        "    sim_scores = sorted(sim_scores, key=lambda x: x[1], reverse=True)[:top_n]\n",
        "    top_indices = [i[0] for i in sim_scores]\n",
        "\n",
        "    recommendations = anime_df.iloc[top_indices].copy()\n",
        "    recommendations['similarity_score'] = [i[1] for i in sim_scores]\n",
        "\n",
        "    return recommendations[['Name', 'Score', 'Genres', 'Type', 'Episodes', 'similarity_score']]"
      ]
    },
    {
      "cell_type": "code",
      "execution_count": 35,
      "metadata": {
        "colab": {
          "base_uri": "https://localhost:8080/"
        },
        "id": "AnEvVxzN65bZ",
        "outputId": "44dfb20f-611b-4a33-dfb5-5c6651f9d361"
      },
      "outputs": [
        {
          "name": "stdout",
          "output_type": "stream",
          "text": [
            "\n",
            "========== ANIME RECOMMENDATIONS ==========\n",
            "\n",
            "1. Naruto\n",
            "   Genre: Action, Adventure, Fantasy\n",
            "   Type: TV | Episodes: 220.0 | Score: 7.99\n",
            "   Similarity Score: 1.0000\n",
            "--------------------------------------------------\n",
            "2. Naruto: Shippuuden\n",
            "   Genre: Action, Adventure, Fantasy\n",
            "   Type: TV | Episodes: 500.0 | Score: 8.26\n",
            "   Similarity Score: 0.8494\n",
            "--------------------------------------------------\n",
            "3. Hunter x Hunter (2011)\n",
            "   Genre: Action, Adventure, Fantasy\n",
            "   Type: TV | Episodes: 148.0 | Score: 9.04\n",
            "   Similarity Score: 0.7833\n",
            "--------------------------------------------------\n",
            "4. Nanatsu no Taizai\n",
            "   Genre: Action, Adventure, Fantasy\n",
            "   Type: TV | Episodes: 24.0 | Score: 7.67\n",
            "   Similarity Score: 0.7713\n",
            "--------------------------------------------------\n",
            "5. One Piece\n",
            "   Genre: Action, Adventure, Fantasy\n",
            "   Type: TV | Episodes: 26.0 | Score: 8.69\n",
            "   Similarity Score: 0.7702\n",
            "--------------------------------------------------\n"
          ]
        }
      ],
      "source": [
        "CB_recommendations = recommend_anime(\"Naruto\")\n",
        "display_recommendations(CB_recommendations)"
      ]
    },
    {
      "cell_type": "markdown",
      "metadata": {
        "id": "XAsMRnYq23jU"
      },
      "source": [
        "# Multi-Anime Content-Based Filtering"
      ]
    },
    {
      "cell_type": "code",
      "execution_count": 41,
      "metadata": {
        "id": "c8-WaFj4Dii7"
      },
      "outputs": [],
      "source": [
        "def multi_anime_content_based_recommendations(user_favorites=None, top_n=5, similarity_matrix=similarity, anime_df=animes):\n",
        "\n",
        "    if not user_favorites or len(user_favorites) == 0:\n",
        "        print(\"No user favorites provided.\")\n",
        "        return pd.DataFrame()\n",
        "\n",
        "    user_favorites = [fav.strip().lower() for fav in user_favorites]\n",
        "    favorite_indices = []\n",
        "    for fav in user_favorites:\n",
        "        match = anime_df[anime_df['Name'].str.lower() == fav]\n",
        "        if not match.empty:\n",
        "            favorite_indices.append(match.index[0])\n",
        "\n",
        "    if not favorite_indices:\n",
        "        print(\"None of the favorite titles matched the dataset.\")\n",
        "        return pd.DataFrame()\n",
        "\n",
        "    scores = []\n",
        "    for idx in range(len(anime_df)):\n",
        "        if idx in favorite_indices:\n",
        "            continue\n",
        "        avg_sim = np.mean([similarity_matrix[idx, fav_idx] for fav_idx in favorite_indices])\n",
        "        scores.append((idx, avg_sim))\n",
        "\n",
        "    scores.sort(key=lambda x: x[1], reverse=True)\n",
        "    top_indices = [i[0] for i in scores[:top_n]]\n",
        "\n",
        "    recommendations = anime_df.iloc[top_indices].copy()\n",
        "    recommendations['collab_score'] = [i[1] for i in scores[:top_n]]\n",
        "\n",
        "    display_columns = ['Name', 'Score', 'Genres', 'Type', 'Episodes', 'collab_score']\n",
        "    if 'English name' in anime_df.columns:\n",
        "        display_columns.insert(1, 'English name')\n",
        "    for col in ['Studios', 'Source', 'Rating', 'Popularity']:\n",
        "        if col in anime_df.columns:\n",
        "            display_columns.insert(-1, col)\n",
        "\n",
        "    return recommendations[display_columns]\n"
      ]
    },
    {
      "cell_type": "code",
      "execution_count": 43,
      "metadata": {
        "colab": {
          "base_uri": "https://localhost:8080/"
        },
        "id": "iQPHgGgBelW9",
        "outputId": "a295711a-74fe-4f10-d323-b9d1fca47d22"
      },
      "outputs": [
        {
          "name": "stdout",
          "output_type": "stream",
          "text": [
            "\n",
            "========== ANIME RECOMMENDATIONS ==========\n",
            "\n",
            "Based on your favorites:\n",
            "  1. Naruto\n",
            "  2. Bleach\n",
            "  3. One Piece\n",
            "\n",
            "1. Naruto: Shippuuden\n",
            "   Genre: Action, Adventure, Fantasy\n",
            "   Type: TV | Episodes: 500.0 | Score: 8.26\n",
            "   Collaborative Score: 0.8060\n",
            "--------------------------------------------------\n",
            "2. Hunter x Hunter (2011)\n",
            "   Genre: Action, Adventure, Fantasy\n",
            "   Type: TV | Episodes: 148.0 | Score: 9.04\n",
            "   Collaborative Score: 0.7904\n",
            "--------------------------------------------------\n",
            "3. Fullmetal Alchemist: Brotherhood\n",
            "   Genre: Action, Adventure, Drama, Fantasy\n",
            "   Type: TV | Episodes: 64.0 | Score: 9.10\n",
            "   Collaborative Score: 0.7624\n",
            "--------------------------------------------------\n",
            "4. Nanatsu no Taizai\n",
            "   Genre: Action, Adventure, Fantasy\n",
            "   Type: TV | Episodes: 24.0 | Score: 7.67\n",
            "   Collaborative Score: 0.7554\n",
            "--------------------------------------------------\n",
            "5. Fairy Tail\n",
            "   Genre: Action, Adventure, Fantasy\n",
            "   Type: TV | Episodes: 175.0 | Score: 7.57\n",
            "   Collaborative Score: 0.7548\n",
            "--------------------------------------------------\n"
          ]
        }
      ],
      "source": [
        "user_favorites = [\"Naruto\", \"Bleach\", \"One Piece\"]\n",
        "try:\n",
        "    recommend = multi_anime_content_based_recommendations(user_favorites=user_favorites)\n",
        "    display_recommendations(recommend, user_favorites)\n",
        "except Exception as e:\n",
        "    print(f\"Error during hybrid recommendation: {e}\")"
      ]
    },
    {
      "cell_type": "markdown",
      "metadata": {
        "id": "mnURTYvIdcqs"
      },
      "source": [
        "# Item-Based Collaborative Filtering"
      ]
    },
    {
      "cell_type": "code",
      "execution_count": 38,
      "metadata": {
        "id": "7DXNd8t6dg-Y"
      },
      "outputs": [],
      "source": [
        "popular_anime = ratings['anime_id'].value_counts()[lambda x: x >= 5000].index\n",
        "filtered_ratings = ratings[ratings['anime_id'].isin(popular_anime)]\n",
        "user_item_matrix = filtered_ratings.pivot_table(index='user_id', columns='anime_id', values='rating')"
      ]
    },
    {
      "cell_type": "code",
      "execution_count": 39,
      "metadata": {
        "id": "RN8UHV-P3FU4"
      },
      "outputs": [],
      "source": [
        "item_similarity = cosine_similarity(user_item_matrix.fillna(0).T)\n",
        "item_similarity_df = pd.DataFrame(item_similarity, index=user_item_matrix.columns, columns=user_item_matrix.columns)\n",
        "\n",
        "def recommend_collaborative(user_favorites, top_n=5, anime_df=animes):\n",
        "    fav_ids = []\n",
        "    for title in user_favorites:\n",
        "        match = anime_df[anime_df['Name'].str.lower() == title.lower()]\n",
        "        if not match.empty:\n",
        "            fav_ids.append(match.iloc[0]['anime_id'])\n",
        "\n",
        "    if not fav_ids:\n",
        "        print(\"Anime favorit tidak ditemukan.\")\n",
        "        return pd.DataFrame()\n",
        "\n",
        "    scores = {}\n",
        "    for anime_id in item_similarity_df.columns:\n",
        "        if anime_id in fav_ids:\n",
        "            continue\n",
        "        similarities = [item_similarity_df.loc[fav_id, anime_id] for fav_id in fav_ids if fav_id in item_similarity_df.index and anime_id in item_similarity_df.columns]\n",
        "        if similarities:\n",
        "            scores[anime_id] = np.mean(similarities)\n",
        "\n",
        "    top_recs = sorted(scores.items(), key=lambda x: x[1], reverse=True)[:top_n]\n",
        "    top_ids = [rec[0] for rec in top_recs]\n",
        "    top_scores = {rec[0]: rec[1] for rec in top_recs}\n",
        "\n",
        "    recommendations = anime_df[anime_df['anime_id'].isin(top_ids)].copy()\n",
        "    recommendations['collab_score'] = recommendations['anime_id'].map(top_scores)\n",
        "\n",
        "    display_columns = ['Name', 'English name', 'Score', 'Genres', 'Type', 'Episodes', 'collab_score']\n",
        "    return recommendations[display_columns].sort_values(by='collab_score', ascending=False)\n"
      ]
    },
    {
      "cell_type": "code",
      "execution_count": 40,
      "metadata": {
        "colab": {
          "base_uri": "https://localhost:8080/"
        },
        "id": "484K7Zgu57U6",
        "outputId": "630514bc-c523-4187-f877-c47b72b95310"
      },
      "outputs": [
        {
          "name": "stdout",
          "output_type": "stream",
          "text": [
            "\n",
            "========== ANIME RECOMMENDATIONS ==========\n",
            "\n",
            "Based on your favorites:\n",
            "  1. Naruto\n",
            "  2. Naruto: Shippuuden\n",
            "  3. One Piece\n",
            "\n",
            "1. Bleach\n",
            "   Genre: Action, Adventure, Fantasy\n",
            "   Type: TV | Episodes: 366.0 | Score: 7.92\n",
            "   Collaborative Score: 0.5608\n",
            "--------------------------------------------------\n",
            "2. Death Note\n",
            "   Genre: Supernatural, Suspense\n",
            "   Type: TV | Episodes: 37.0 | Score: 8.62\n",
            "   Collaborative Score: 0.4928\n",
            "--------------------------------------------------\n",
            "3. Fullmetal Alchemist\n",
            "   Genre: Action, Adventure, Award Winning, Drama, Fantasy\n",
            "   Type: TV | Episodes: 51.0 | Score: 8.11\n",
            "   Collaborative Score: 0.4568\n",
            "--------------------------------------------------\n",
            "4. Fairy Tail\n",
            "   Genre: Action, Adventure, Fantasy\n",
            "   Type: TV | Episodes: 175.0 | Score: 7.57\n",
            "   Collaborative Score: 0.4292\n",
            "--------------------------------------------------\n",
            "5. Code Geass: Hangyaku no Lelouch\n",
            "   Genre: Action, Award Winning, Drama, Sci-Fi\n",
            "   Type: TV | Episodes: 25.0 | Score: 8.70\n",
            "   Collaborative Score: 0.4198\n",
            "--------------------------------------------------\n"
          ]
        }
      ],
      "source": [
        "user_favorites = [\"Naruto\", \"Naruto: Shippuuden\", \"One Piece\"]\n",
        "recommend = recommend_collaborative(user_favorites=user_favorites)\n",
        "display_recommendations(recommend, user_favorites)"
      ]
    },
    {
      "cell_type": "markdown",
      "metadata": {
        "id": "DlkONdSnpnH8"
      },
      "source": [
        "# **Kesimpulan**"
      ]
    },
    {
      "cell_type": "markdown",
      "metadata": {
        "id": "IbmoIbPicAyG"
      },
      "source": [
        "* Dari Content-Based Filtering (CBF) dapat dilihat hasil paling tinggi secara cosine similarity, membuktikan bahwa vektor konten seperti genre, sinopsis, dan skor memberikan dasar kuat untuk relevansi rekomendasi.\n",
        "* Nilai similarity yang tinggi (hampir 0.85–1.00) menunjukkan sistem dapat menangkap makna konten dengan akurat.\n",
        "* Sedangkan Multi-Anime CBF sangat berguna bagi pengguna dengan selera campuran, dan tetap menghasilkan skor tinggi, walaupun lebih terdispersi.\n",
        "* Dan Collaborative Filtering memperluas cakupan dengan variasi yang lebih besar, meski kadang menyimpang dari konten, namun menyajikan rekomendasi berbasis preferensi kolektif.\n"
      ]
    }
  ],
  "metadata": {
    "colab": {
      "provenance": []
    },
    "kernelspec": {
      "display_name": "Python 3",
      "name": "python3"
    },
    "language_info": {
      "codemirror_mode": {
        "name": "ipython",
        "version": 3
      },
      "file_extension": ".py",
      "mimetype": "text/x-python",
      "name": "python",
      "nbconvert_exporter": "python",
      "pygments_lexer": "ipython3",
      "version": "3.12.1"
    }
  },
  "nbformat": 4,
  "nbformat_minor": 0
}
