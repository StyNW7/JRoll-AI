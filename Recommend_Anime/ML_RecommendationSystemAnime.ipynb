{
  "cells": [
    {
      "cell_type": "markdown",
      "metadata": {
        "id": "H0mo15HYYWo2"
      },
      "source": [
        "# **IMPORT** **LIBRARY**"
      ]
    },
    {
      "cell_type": "code",
      "execution_count": 32,
      "metadata": {
        "id": "5XBN9Yv56Slf"
      },
      "outputs": [],
      "source": [
        "import numpy as np\n",
        "import pandas as pd\n",
        "import matplotlib.pyplot as plt\n",
        "import seaborn as sns\n",
        "import warnings\n",
        "import re\n",
        "from nltk.corpus import stopwords\n",
        "from nltk.stem import PorterStemmer\n",
        "from sklearn.feature_extraction.text import TfidfVectorizer\n",
        "from sklearn.metrics.pairwise import cosine_similarity\n",
        "from sklearn.preprocessing import MinMaxScaler\n",
        "import nltk\n",
        "from datetime import datetime\n",
        "import pickle\n",
        "from sklearn.preprocessing import MinMaxScaler, OneHotEncoder\n",
        "from scipy.sparse import hstack, csr_matrix"
      ]
    },
    {
      "cell_type": "markdown",
      "metadata": {
        "id": "QOiKUwSOYoT2"
      },
      "source": [
        "# **LOAD DATASET**"
      ]
    },
    {
      "cell_type": "code",
      "execution_count": 33,
      "metadata": {
        "colab": {
          "base_uri": "https://localhost:8080/"
        },
        "id": "8fbf2x2R6WNw",
        "outputId": "3d994a49-a6f1-44b2-b059-687aed2e6856"
      },
      "outputs": [
        {
          "name": "stdout",
          "output_type": "stream",
          "text": [
            "anime dataset: (24905, 24) \n",
            "user score dataset: (24325191, 5)\n"
          ]
        }
      ],
      "source": [
        "try:\n",
        "    nltk.data.find('corpora/stopwords')\n",
        "except LookupError:\n",
        "    nltk.download('stopwords')\n",
        "\n",
        "warnings.filterwarnings('ignore')\n",
        "\n",
        "df = pd.read_csv('./dataset_anime/anime-dataset-2023.csv')\n",
        "ratings = pd.read_csv('./dataset_anime/users-score-2023.csv')\n",
        "\n",
        "print(f\"anime dataset: {df.shape} \")\n",
        "print(f\"user score dataset: {ratings.shape}\")"
      ]
    },
    {
      "cell_type": "markdown",
      "metadata": {
        "id": "xgMR6eb3Zjtl"
      },
      "source": [
        "# **EDA (EXPLORE DATA ANALYSIS)**"
      ]
    },
    {
      "cell_type": "code",
      "execution_count": 34,
      "metadata": {
        "colab": {
          "base_uri": "https://localhost:8080/"
        },
        "id": "hhpE09NAsE84",
        "outputId": "583d21e6-57ad-4c5b-9dcc-636d088ca0a0"
      },
      "outputs": [
        {
          "name": "stdout",
          "output_type": "stream",
          "text": [
            "<class 'pandas.core.frame.DataFrame'>\n",
            "RangeIndex: 24325191 entries, 0 to 24325190\n",
            "Data columns (total 5 columns):\n",
            " #   Column       Dtype \n",
            "---  ------       ----- \n",
            " 0   user_id      int64 \n",
            " 1   Username     object\n",
            " 2   anime_id     int64 \n",
            " 3   Anime Title  object\n",
            " 4   rating       int64 \n",
            "dtypes: int64(3), object(2)\n",
            "memory usage: 927.9+ MB\n"
          ]
        }
      ],
      "source": [
        "ratings.info()"
      ]
    },
    {
      "cell_type": "code",
      "execution_count": 35,
      "metadata": {
        "colab": {
          "base_uri": "https://localhost:8080/",
          "height": 241
        },
        "id": "wIyo0c_Dsfw2",
        "outputId": "c362a268-29bc-4942-f6b1-03d499e483bf"
      },
      "outputs": [
        {
          "data": {
            "text/plain": [
              "Username       232\n",
              "user_id          0\n",
              "anime_id         0\n",
              "Anime Title      0\n",
              "rating           0\n",
              "dtype: int64"
            ]
          },
          "execution_count": 35,
          "metadata": {},
          "output_type": "execute_result"
        }
      ],
      "source": [
        "missing_values = ratings.isnull().sum().sort_values(ascending=False)\n",
        "missing_values.head()"
      ]
    },
    {
      "cell_type": "code",
      "execution_count": 36,
      "metadata": {
        "id": "YYXYxKUKtmpg"
      },
      "outputs": [],
      "source": [
        "ratings.drop('Username', axis=1, inplace=True)"
      ]
    },
    {
      "cell_type": "code",
      "execution_count": 37,
      "metadata": {
        "colab": {
          "base_uri": "https://localhost:8080/"
        },
        "id": "mEx1Z9h7t1Hp",
        "outputId": "78a4e14e-5fb0-42f9-fe61-29d057bfdb5c"
      },
      "outputs": [
        {
          "data": {
            "text/plain": [
              "0"
            ]
          },
          "execution_count": 37,
          "metadata": {},
          "output_type": "execute_result"
        }
      ],
      "source": [
        "ratings.duplicated().sum()"
      ]
    },
    {
      "cell_type": "code",
      "execution_count": 38,
      "metadata": {
        "colab": {
          "base_uri": "https://localhost:8080/",
          "height": 652
        },
        "id": "dqrDfnA86m2O",
        "outputId": "9a75a3cb-ca2a-4c8e-f249-b977d0c46683"
      },
      "outputs": [
        {
          "data": {
            "text/html": [
              "<div>\n",
              "<style scoped>\n",
              "    .dataframe tbody tr th:only-of-type {\n",
              "        vertical-align: middle;\n",
              "    }\n",
              "\n",
              "    .dataframe tbody tr th {\n",
              "        vertical-align: top;\n",
              "    }\n",
              "\n",
              "    .dataframe thead th {\n",
              "        text-align: right;\n",
              "    }\n",
              "</style>\n",
              "<table border=\"1\" class=\"dataframe\">\n",
              "  <thead>\n",
              "    <tr style=\"text-align: right;\">\n",
              "      <th></th>\n",
              "      <th>anime_id</th>\n",
              "      <th>Name</th>\n",
              "      <th>English name</th>\n",
              "      <th>Other name</th>\n",
              "      <th>Score</th>\n",
              "      <th>Genres</th>\n",
              "      <th>Synopsis</th>\n",
              "      <th>Type</th>\n",
              "      <th>Episodes</th>\n",
              "      <th>Aired</th>\n",
              "      <th>...</th>\n",
              "      <th>Studios</th>\n",
              "      <th>Source</th>\n",
              "      <th>Duration</th>\n",
              "      <th>Rating</th>\n",
              "      <th>Rank</th>\n",
              "      <th>Popularity</th>\n",
              "      <th>Favorites</th>\n",
              "      <th>Scored By</th>\n",
              "      <th>Members</th>\n",
              "      <th>Image URL</th>\n",
              "    </tr>\n",
              "  </thead>\n",
              "  <tbody>\n",
              "    <tr>\n",
              "      <th>0</th>\n",
              "      <td>1</td>\n",
              "      <td>Cowboy Bebop</td>\n",
              "      <td>Cowboy Bebop</td>\n",
              "      <td>カウボーイビバップ</td>\n",
              "      <td>8.75</td>\n",
              "      <td>Action, Award Winning, Sci-Fi</td>\n",
              "      <td>Crime is timeless. By the year 2071, humanity ...</td>\n",
              "      <td>TV</td>\n",
              "      <td>26.0</td>\n",
              "      <td>Apr 3, 1998 to Apr 24, 1999</td>\n",
              "      <td>...</td>\n",
              "      <td>Sunrise</td>\n",
              "      <td>Original</td>\n",
              "      <td>24 min per ep</td>\n",
              "      <td>R - 17+ (violence &amp; profanity)</td>\n",
              "      <td>41.0</td>\n",
              "      <td>43</td>\n",
              "      <td>78525</td>\n",
              "      <td>914193.0</td>\n",
              "      <td>1771505</td>\n",
              "      <td>https://cdn.myanimelist.net/images/anime/4/196...</td>\n",
              "    </tr>\n",
              "    <tr>\n",
              "      <th>1</th>\n",
              "      <td>5</td>\n",
              "      <td>Cowboy Bebop: Tengoku no Tobira</td>\n",
              "      <td>Cowboy Bebop: The Movie</td>\n",
              "      <td>カウボーイビバップ 天国の扉</td>\n",
              "      <td>8.38</td>\n",
              "      <td>Action, Sci-Fi</td>\n",
              "      <td>Another day, another bounty—such is the life o...</td>\n",
              "      <td>Movie</td>\n",
              "      <td>1.0</td>\n",
              "      <td>Sep 1, 2001</td>\n",
              "      <td>...</td>\n",
              "      <td>Bones</td>\n",
              "      <td>Original</td>\n",
              "      <td>1 hr 55 min</td>\n",
              "      <td>R - 17+ (violence &amp; profanity)</td>\n",
              "      <td>189.0</td>\n",
              "      <td>602</td>\n",
              "      <td>1448</td>\n",
              "      <td>206248.0</td>\n",
              "      <td>360978</td>\n",
              "      <td>https://cdn.myanimelist.net/images/anime/1439/...</td>\n",
              "    </tr>\n",
              "    <tr>\n",
              "      <th>2</th>\n",
              "      <td>6</td>\n",
              "      <td>Trigun</td>\n",
              "      <td>Trigun</td>\n",
              "      <td>トライガン</td>\n",
              "      <td>8.22</td>\n",
              "      <td>Action, Adventure, Sci-Fi</td>\n",
              "      <td>Vash the Stampede is the man with a $$60,000,0...</td>\n",
              "      <td>TV</td>\n",
              "      <td>26.0</td>\n",
              "      <td>Apr 1, 1998 to Sep 30, 1998</td>\n",
              "      <td>...</td>\n",
              "      <td>Madhouse</td>\n",
              "      <td>Manga</td>\n",
              "      <td>24 min per ep</td>\n",
              "      <td>PG-13 - Teens 13 or older</td>\n",
              "      <td>328.0</td>\n",
              "      <td>246</td>\n",
              "      <td>15035</td>\n",
              "      <td>356739.0</td>\n",
              "      <td>727252</td>\n",
              "      <td>https://cdn.myanimelist.net/images/anime/7/203...</td>\n",
              "    </tr>\n",
              "    <tr>\n",
              "      <th>3</th>\n",
              "      <td>7</td>\n",
              "      <td>Witch Hunter Robin</td>\n",
              "      <td>Witch Hunter Robin</td>\n",
              "      <td>Witch Hunter ROBIN (ウイッチハンターロビン)</td>\n",
              "      <td>7.25</td>\n",
              "      <td>Action, Drama, Mystery, Supernatural</td>\n",
              "      <td>Robin Sena is a powerful craft user drafted in...</td>\n",
              "      <td>TV</td>\n",
              "      <td>26.0</td>\n",
              "      <td>Jul 3, 2002 to Dec 25, 2002</td>\n",
              "      <td>...</td>\n",
              "      <td>Sunrise</td>\n",
              "      <td>Original</td>\n",
              "      <td>25 min per ep</td>\n",
              "      <td>PG-13 - Teens 13 or older</td>\n",
              "      <td>2764.0</td>\n",
              "      <td>1795</td>\n",
              "      <td>613</td>\n",
              "      <td>42829.0</td>\n",
              "      <td>111931</td>\n",
              "      <td>https://cdn.myanimelist.net/images/anime/10/19...</td>\n",
              "    </tr>\n",
              "    <tr>\n",
              "      <th>4</th>\n",
              "      <td>8</td>\n",
              "      <td>Bouken Ou Beet</td>\n",
              "      <td>Beet the Vandel Buster</td>\n",
              "      <td>冒険王ビィト</td>\n",
              "      <td>6.94</td>\n",
              "      <td>Adventure, Fantasy, Supernatural</td>\n",
              "      <td>It is the dark century and the people are suff...</td>\n",
              "      <td>TV</td>\n",
              "      <td>52.0</td>\n",
              "      <td>Sep 30, 2004 to Sep 29, 2005</td>\n",
              "      <td>...</td>\n",
              "      <td>Toei Animation</td>\n",
              "      <td>Manga</td>\n",
              "      <td>23 min per ep</td>\n",
              "      <td>PG - Children</td>\n",
              "      <td>4240.0</td>\n",
              "      <td>5126</td>\n",
              "      <td>14</td>\n",
              "      <td>6413.0</td>\n",
              "      <td>15001</td>\n",
              "      <td>https://cdn.myanimelist.net/images/anime/7/215...</td>\n",
              "    </tr>\n",
              "  </tbody>\n",
              "</table>\n",
              "<p>5 rows × 24 columns</p>\n",
              "</div>"
            ],
            "text/plain": [
              "   anime_id                             Name             English name  \\\n",
              "0         1                     Cowboy Bebop             Cowboy Bebop   \n",
              "1         5  Cowboy Bebop: Tengoku no Tobira  Cowboy Bebop: The Movie   \n",
              "2         6                           Trigun                   Trigun   \n",
              "3         7               Witch Hunter Robin       Witch Hunter Robin   \n",
              "4         8                   Bouken Ou Beet   Beet the Vandel Buster   \n",
              "\n",
              "                         Other name Score  \\\n",
              "0                         カウボーイビバップ  8.75   \n",
              "1                    カウボーイビバップ 天国の扉  8.38   \n",
              "2                             トライガン  8.22   \n",
              "3  Witch Hunter ROBIN (ウイッチハンターロビン)  7.25   \n",
              "4                            冒険王ビィト  6.94   \n",
              "\n",
              "                                 Genres  \\\n",
              "0         Action, Award Winning, Sci-Fi   \n",
              "1                        Action, Sci-Fi   \n",
              "2             Action, Adventure, Sci-Fi   \n",
              "3  Action, Drama, Mystery, Supernatural   \n",
              "4      Adventure, Fantasy, Supernatural   \n",
              "\n",
              "                                            Synopsis   Type Episodes  \\\n",
              "0  Crime is timeless. By the year 2071, humanity ...     TV     26.0   \n",
              "1  Another day, another bounty—such is the life o...  Movie      1.0   \n",
              "2  Vash the Stampede is the man with a $$60,000,0...     TV     26.0   \n",
              "3  Robin Sena is a powerful craft user drafted in...     TV     26.0   \n",
              "4  It is the dark century and the people are suff...     TV     52.0   \n",
              "\n",
              "                          Aired  ...         Studios    Source       Duration  \\\n",
              "0   Apr 3, 1998 to Apr 24, 1999  ...         Sunrise  Original  24 min per ep   \n",
              "1                   Sep 1, 2001  ...           Bones  Original    1 hr 55 min   \n",
              "2   Apr 1, 1998 to Sep 30, 1998  ...        Madhouse     Manga  24 min per ep   \n",
              "3   Jul 3, 2002 to Dec 25, 2002  ...         Sunrise  Original  25 min per ep   \n",
              "4  Sep 30, 2004 to Sep 29, 2005  ...  Toei Animation     Manga  23 min per ep   \n",
              "\n",
              "                           Rating    Rank Popularity Favorites Scored By  \\\n",
              "0  R - 17+ (violence & profanity)    41.0         43     78525  914193.0   \n",
              "1  R - 17+ (violence & profanity)   189.0        602      1448  206248.0   \n",
              "2       PG-13 - Teens 13 or older   328.0        246     15035  356739.0   \n",
              "3       PG-13 - Teens 13 or older  2764.0       1795       613   42829.0   \n",
              "4                   PG - Children  4240.0       5126        14    6413.0   \n",
              "\n",
              "   Members                                          Image URL  \n",
              "0  1771505  https://cdn.myanimelist.net/images/anime/4/196...  \n",
              "1   360978  https://cdn.myanimelist.net/images/anime/1439/...  \n",
              "2   727252  https://cdn.myanimelist.net/images/anime/7/203...  \n",
              "3   111931  https://cdn.myanimelist.net/images/anime/10/19...  \n",
              "4    15001  https://cdn.myanimelist.net/images/anime/7/215...  \n",
              "\n",
              "[5 rows x 24 columns]"
            ]
          },
          "execution_count": 38,
          "metadata": {},
          "output_type": "execute_result"
        }
      ],
      "source": [
        "df.head()"
      ]
    },
    {
      "cell_type": "code",
      "execution_count": 39,
      "metadata": {
        "colab": {
          "base_uri": "https://localhost:8080/"
        },
        "id": "ui65zDst6yBl",
        "outputId": "774ec09b-bb8d-4237-9ea6-c410624fb3d2"
      },
      "outputs": [
        {
          "name": "stdout",
          "output_type": "stream",
          "text": [
            "<class 'pandas.core.frame.DataFrame'>\n",
            "RangeIndex: 24905 entries, 0 to 24904\n",
            "Data columns (total 24 columns):\n",
            " #   Column        Non-Null Count  Dtype \n",
            "---  ------        --------------  ----- \n",
            " 0   anime_id      24905 non-null  int64 \n",
            " 1   Name          24905 non-null  object\n",
            " 2   English name  24905 non-null  object\n",
            " 3   Other name    24905 non-null  object\n",
            " 4   Score         24905 non-null  object\n",
            " 5   Genres        24905 non-null  object\n",
            " 6   Synopsis      24905 non-null  object\n",
            " 7   Type          24905 non-null  object\n",
            " 8   Episodes      24905 non-null  object\n",
            " 9   Aired         24905 non-null  object\n",
            " 10  Premiered     24905 non-null  object\n",
            " 11  Status        24905 non-null  object\n",
            " 12  Producers     24905 non-null  object\n",
            " 13  Licensors     24905 non-null  object\n",
            " 14  Studios       24905 non-null  object\n",
            " 15  Source        24905 non-null  object\n",
            " 16  Duration      24905 non-null  object\n",
            " 17  Rating        24905 non-null  object\n",
            " 18  Rank          24905 non-null  object\n",
            " 19  Popularity    24905 non-null  int64 \n",
            " 20  Favorites     24905 non-null  int64 \n",
            " 21  Scored By     24905 non-null  object\n",
            " 22  Members       24905 non-null  int64 \n",
            " 23  Image URL     24905 non-null  object\n",
            "dtypes: int64(4), object(20)\n",
            "memory usage: 4.6+ MB\n"
          ]
        }
      ],
      "source": [
        "df.info()"
      ]
    },
    {
      "cell_type": "code",
      "execution_count": 40,
      "metadata": {
        "colab": {
          "base_uri": "https://localhost:8080/",
          "height": 241
        },
        "id": "QUdkkr_tCwsy",
        "outputId": "c6f95e23-be6e-43f6-82aa-a6efb85081b6"
      },
      "outputs": [
        {
          "data": {
            "text/plain": [
              "anime_id     0\n",
              "Name         0\n",
              "Members      0\n",
              "Scored By    0\n",
              "Favorites    0\n",
              "dtype: int64"
            ]
          },
          "execution_count": 40,
          "metadata": {},
          "output_type": "execute_result"
        }
      ],
      "source": [
        "missing_values = df.isnull().sum().sort_values(ascending=False)\n",
        "missing_values.head()"
      ]
    },
    {
      "cell_type": "markdown",
      "metadata": {
        "id": "12mJplERZtym"
      },
      "source": [
        "Cek unknown data"
      ]
    },
    {
      "cell_type": "code",
      "execution_count": 41,
      "metadata": {
        "colab": {
          "base_uri": "https://localhost:8080/"
        },
        "id": "R7e7XT0nCyNE",
        "outputId": "183a4860-6022-4514-8687-7da431f27ea4"
      },
      "outputs": [
        {
          "name": "stdout",
          "output_type": "stream",
          "text": [
            "Column 'English name' has 14577 'UNKNOWN' values\n",
            "Column 'Other name' has 128 'UNKNOWN' values\n",
            "Column 'Score' has 9213 'UNKNOWN' values\n",
            "Column 'Genres' has 4929 'UNKNOWN' values\n",
            "Column 'Type' has 74 'UNKNOWN' values\n",
            "Column 'Episodes' has 611 'UNKNOWN' values\n",
            "Column 'Premiered' has 19399 'UNKNOWN' values\n",
            "Column 'Producers' has 13350 'UNKNOWN' values\n",
            "Column 'Licensors' has 20170 'UNKNOWN' values\n",
            "Column 'Studios' has 10526 'UNKNOWN' values\n",
            "Column 'Rating' has 669 'UNKNOWN' values\n",
            "Column 'Rank' has 4612 'UNKNOWN' values\n",
            "Column 'Scored By' has 9213 'UNKNOWN' values\n"
          ]
        }
      ],
      "source": [
        "for col in df.columns:\n",
        "    if df[col].dtype == object:\n",
        "        unknown_mask = df[col] == 'UNKNOWN'\n",
        "        if unknown_mask.any():\n",
        "            print(f\"Column '{col}' has {unknown_mask.sum()} 'UNKNOWN' values\")"
      ]
    },
    {
      "cell_type": "markdown",
      "metadata": {
        "id": "SPvuIhLEjO8-"
      },
      "source": [
        "Convert Episodes to numeric"
      ]
    },
    {
      "cell_type": "code",
      "execution_count": 42,
      "metadata": {
        "id": "tkfuUhasjP5C"
      },
      "outputs": [],
      "source": [
        "numeric_cols = ['Favorites', 'Popularity', 'Members', 'Scored By', 'Score', 'Episodes']\n",
        "for col in numeric_cols:\n",
        "    if col in df.columns:\n",
        "        df[col] = pd.to_numeric(df[col].replace('UNKNOWN', np.nan), errors='coerce')"
      ]
    },
    {
      "cell_type": "markdown",
      "metadata": {
        "id": "YOWy9PbWaeK2"
      },
      "source": [
        "Fill the missing Values"
      ]
    },
    {
      "cell_type": "code",
      "execution_count": 43,
      "metadata": {
        "id": "SS7VDuvC6nq7"
      },
      "outputs": [],
      "source": [
        "median_episodes = df.groupby('Type')['Episodes'].transform('median')\n",
        "df['Episodes'].fillna(median_episodes, inplace=True)\n",
        "df['Episodes'].fillna(df['Episodes'].median(), inplace=True)"
      ]
    },
    {
      "cell_type": "markdown",
      "metadata": {
        "id": "2G3ab1e9koLo"
      },
      "source": [
        " Drop rows with missing scores"
      ]
    },
    {
      "cell_type": "code",
      "execution_count": 44,
      "metadata": {
        "colab": {
          "base_uri": "https://localhost:8080/"
        },
        "id": "t8vpaSPHkwwU",
        "outputId": "a5dc6ab8-fac2-4189-8686-62122ecbccf0"
      },
      "outputs": [
        {
          "name": "stdout",
          "output_type": "stream",
          "text": [
            "Dataset shape after handling critical missing values: (24905, 24)\n"
          ]
        }
      ],
      "source": [
        "# df.dropna(subset=['Score', \"Scored By\"], inplace=True)\n",
        "# df = df[(df['Genres'] != 'UNKNOWN') & (df['Synopsis'] != 'UNKNOWN') & (df['Type'] != \"UNKNOWN\")]\n",
        "\n",
        "print(f\"Dataset shape after handling critical missing values: {df.shape}\")"
      ]
    },
    {
      "cell_type": "code",
      "execution_count": 45,
      "metadata": {
        "id": "MRidD2oeEq1F"
      },
      "outputs": [],
      "source": [
        "df.replace('UNKNOWN', pd.NA, inplace=True)\n",
        "df['Studios'].fillna('No data', inplace=True)\n",
        "df['Producers'].fillna('No data', inplace=True)\n",
        "df['Rating'].fillna(\"NO data\", inplace = True)"
      ]
    },
    {
      "cell_type": "markdown",
      "metadata": {
        "id": "bjN7SbQCk5vS"
      },
      "source": [
        "Make sure English name is filled if available, If English name is empty but Name exists, use Name"
      ]
    },
    {
      "cell_type": "code",
      "execution_count": 46,
      "metadata": {
        "id": "z4FS2FS1CoBu"
      },
      "outputs": [],
      "source": [
        "if \"English name\" in df.columns:\n",
        "    mask = df[\"English name\"].isna() | (df[\"English name\"] == \"UNKNOWN\")\n",
        "    df.loc[mask, \"English name\"] = df.loc[mask, \"Name\"]"
      ]
    },
    {
      "cell_type": "code",
      "execution_count": 47,
      "metadata": {
        "id": "PThAUJct5QGG"
      },
      "outputs": [],
      "source": [
        "# Check again Unknown Value\n",
        "for col in df.columns:\n",
        "    if df[col].dtype == object:  # Only check object columns\n",
        "        unknown_mask = df[col] == 'UNKNOWN'\n",
        "        if unknown_mask.any():\n",
        "            print(f\"Column '{col}' has {unknown_mask.sum()} 'UNKNOWN' values\")"
      ]
    },
    {
      "cell_type": "code",
      "execution_count": 48,
      "metadata": {
        "colab": {
          "base_uri": "https://localhost:8080/"
        },
        "id": "yEQ8C7NrVW11",
        "outputId": "adc3837d-258e-42b5-f860-cf5395f73d0b"
      },
      "outputs": [
        {
          "name": "stdout",
          "output_type": "stream",
          "text": [
            "Dataset shape after handling critical missing values: (24905, 24)\n"
          ]
        }
      ],
      "source": [
        "print(f\"Dataset shape after handling critical missing values: {df.shape}\")"
      ]
    },
    {
      "cell_type": "code",
      "execution_count": 49,
      "metadata": {
        "colab": {
          "base_uri": "https://localhost:8080/",
          "height": 241
        },
        "id": "TMo020OK-aLv",
        "outputId": "21fec402-d86e-4aa3-f4b8-4e808c1e5f03"
      },
      "outputs": [
        {
          "data": {
            "text/plain": [
              "Licensors    80.987753\n",
              "Premiered    77.891990\n",
              "Score        36.992572\n",
              "Scored By    36.992572\n",
              "Genres       19.791207\n",
              "dtype: float64"
            ]
          },
          "execution_count": 49,
          "metadata": {},
          "output_type": "execute_result"
        }
      ],
      "source": [
        "missing_percentage = df.isnull().mean().sort_values(ascending=False) * 100\n",
        "missing_percentage.head()"
      ]
    },
    {
      "cell_type": "markdown",
      "metadata": {
        "id": "OkNeUg61nh_j"
      },
      "source": [
        "Drop the 4 columns, because not important and also have missing values more than 50%"
      ]
    },
    {
      "cell_type": "code",
      "execution_count": 50,
      "metadata": {
        "id": "NrufLsjTnW9X"
      },
      "outputs": [],
      "source": [
        "drop_cols = ['Premiered', 'Licensors', 'Rank', 'Other name']\n",
        "df.drop(drop_cols, axis=1, inplace=True)"
      ]
    },
    {
      "cell_type": "code",
      "execution_count": 51,
      "metadata": {
        "id": "DYvmozKh61j9"
      },
      "outputs": [
        {
          "name": "stdout",
          "output_type": "stream",
          "text": [
            "\n",
            "--- Basic Exploratory Data Analysis ---\n"
          ]
        },
        {
          "data": {
            "text/html": [
              "<div>\n",
              "<style scoped>\n",
              "    .dataframe tbody tr th:only-of-type {\n",
              "        vertical-align: middle;\n",
              "    }\n",
              "\n",
              "    .dataframe tbody tr th {\n",
              "        vertical-align: top;\n",
              "    }\n",
              "\n",
              "    .dataframe thead th {\n",
              "        text-align: right;\n",
              "    }\n",
              "</style>\n",
              "<table border=\"1\" class=\"dataframe\">\n",
              "  <thead>\n",
              "    <tr style=\"text-align: right;\">\n",
              "      <th></th>\n",
              "      <th>anime_id</th>\n",
              "      <th>Score</th>\n",
              "      <th>Episodes</th>\n",
              "      <th>Popularity</th>\n",
              "      <th>Favorites</th>\n",
              "      <th>Scored By</th>\n",
              "      <th>Members</th>\n",
              "    </tr>\n",
              "  </thead>\n",
              "  <tbody>\n",
              "    <tr>\n",
              "      <th>count</th>\n",
              "      <td>24905.000000</td>\n",
              "      <td>15692.000000</td>\n",
              "      <td>24905.000000</td>\n",
              "      <td>24905.000000</td>\n",
              "      <td>24905.000000</td>\n",
              "      <td>1.569200e+04</td>\n",
              "      <td>2.490500e+04</td>\n",
              "    </tr>\n",
              "    <tr>\n",
              "      <th>mean</th>\n",
              "      <td>29776.709014</td>\n",
              "      <td>6.380890</td>\n",
              "      <td>14.935234</td>\n",
              "      <td>12265.388356</td>\n",
              "      <td>432.595222</td>\n",
              "      <td>2.997438e+04</td>\n",
              "      <td>3.710496e+04</td>\n",
              "    </tr>\n",
              "    <tr>\n",
              "      <th>std</th>\n",
              "      <td>17976.076290</td>\n",
              "      <td>0.928696</td>\n",
              "      <td>48.005927</td>\n",
              "      <td>7187.428393</td>\n",
              "      <td>4353.181647</td>\n",
              "      <td>1.169348e+05</td>\n",
              "      <td>1.568252e+05</td>\n",
              "    </tr>\n",
              "    <tr>\n",
              "      <th>min</th>\n",
              "      <td>1.000000</td>\n",
              "      <td>1.850000</td>\n",
              "      <td>1.000000</td>\n",
              "      <td>0.000000</td>\n",
              "      <td>0.000000</td>\n",
              "      <td>1.000000e+02</td>\n",
              "      <td>0.000000e+00</td>\n",
              "    </tr>\n",
              "    <tr>\n",
              "      <th>25%</th>\n",
              "      <td>10507.000000</td>\n",
              "      <td>5.730000</td>\n",
              "      <td>1.000000</td>\n",
              "      <td>6040.000000</td>\n",
              "      <td>0.000000</td>\n",
              "      <td>3.840000e+02</td>\n",
              "      <td>2.090000e+02</td>\n",
              "    </tr>\n",
              "    <tr>\n",
              "      <th>50%</th>\n",
              "      <td>34628.000000</td>\n",
              "      <td>6.390000</td>\n",
              "      <td>2.000000</td>\n",
              "      <td>12265.000000</td>\n",
              "      <td>1.000000</td>\n",
              "      <td>1.760000e+03</td>\n",
              "      <td>1.056000e+03</td>\n",
              "    </tr>\n",
              "    <tr>\n",
              "      <th>75%</th>\n",
              "      <td>45240.000000</td>\n",
              "      <td>7.060000</td>\n",
              "      <td>13.000000</td>\n",
              "      <td>18491.000000</td>\n",
              "      <td>18.000000</td>\n",
              "      <td>1.085550e+04</td>\n",
              "      <td>9.326000e+03</td>\n",
              "    </tr>\n",
              "    <tr>\n",
              "      <th>max</th>\n",
              "      <td>55735.000000</td>\n",
              "      <td>9.100000</td>\n",
              "      <td>3057.000000</td>\n",
              "      <td>24723.000000</td>\n",
              "      <td>217606.000000</td>\n",
              "      <td>2.660903e+06</td>\n",
              "      <td>3.744541e+06</td>\n",
              "    </tr>\n",
              "  </tbody>\n",
              "</table>\n",
              "</div>"
            ],
            "text/plain": [
              "           anime_id         Score      Episodes    Popularity      Favorites  \\\n",
              "count  24905.000000  15692.000000  24905.000000  24905.000000   24905.000000   \n",
              "mean   29776.709014      6.380890     14.935234  12265.388356     432.595222   \n",
              "std    17976.076290      0.928696     48.005927   7187.428393    4353.181647   \n",
              "min        1.000000      1.850000      1.000000      0.000000       0.000000   \n",
              "25%    10507.000000      5.730000      1.000000   6040.000000       0.000000   \n",
              "50%    34628.000000      6.390000      2.000000  12265.000000       1.000000   \n",
              "75%    45240.000000      7.060000     13.000000  18491.000000      18.000000   \n",
              "max    55735.000000      9.100000   3057.000000  24723.000000  217606.000000   \n",
              "\n",
              "          Scored By       Members  \n",
              "count  1.569200e+04  2.490500e+04  \n",
              "mean   2.997438e+04  3.710496e+04  \n",
              "std    1.169348e+05  1.568252e+05  \n",
              "min    1.000000e+02  0.000000e+00  \n",
              "25%    3.840000e+02  2.090000e+02  \n",
              "50%    1.760000e+03  1.056000e+03  \n",
              "75%    1.085550e+04  9.326000e+03  \n",
              "max    2.660903e+06  3.744541e+06  "
            ]
          },
          "execution_count": 51,
          "metadata": {},
          "output_type": "execute_result"
        }
      ],
      "source": [
        "# Basic EDA\n",
        "print(\"\\n--- Basic Exploratory Data Analysis ---\")\n",
        "df.describe()"
      ]
    },
    {
      "cell_type": "code",
      "execution_count": 52,
      "metadata": {
        "id": "axldqOl_HjVu"
      },
      "outputs": [
        {
          "data": {
            "image/png": "[encoded data removed]",
            "text/plain": [
              "<Figure size 800x400 with 1 Axes>"
            ]
          },
          "metadata": {},
          "output_type": "display_data"
        },
        {
          "data": {
            "image/png": "[encoded data removed]",
            "text/plain": [
              "<Figure size 800x400 with 1 Axes>"
            ]
          },
          "metadata": {},
          "output_type": "display_data"
        }
      ],
      "source": [
        "for column in ['Score', 'Popularity']:\n",
        "    plt.figure(figsize=(8, 4))\n",
        "    sns.histplot(df[column], kde=True)\n",
        "    plt.title(f'Distribution of {column}')\n",
        "    plt.xlabel(column)\n",
        "    plt.ylabel('Frequency')\n",
        "    plt.show()\n"
      ]
    },
    {
      "cell_type": "code",
      "execution_count": 53,
      "metadata": {
        "id": "oFimXiqwHnCy"
      },
      "outputs": [
        {
          "data": {
            "image/png": "[encoded data removed]",
            "text/plain": [
              "<Figure size 1000x800 with 2 Axes>"
            ]
          },
          "metadata": {},
          "output_type": "display_data"
        }
      ],
      "source": [
        "plt.figure(figsize=(10, 8))\n",
        "sns.heatmap(df[['Score', 'Popularity', 'Favorites', 'Scored By', 'Members']].corr(), annot=True, cmap='coolwarm')\n",
        "plt.title('Correlation Matrix')\n",
        "plt.show()"
      ]
    },
    {
      "cell_type": "code",
      "execution_count": 54,
      "metadata": {
        "id": "8Nj9X2CyH2cl"
      },
      "outputs": [
        {
          "data": {
            "image/png": "[encoded data removed]",
            "text/plain": [
              "<Figure size 640x480 with 1 Axes>"
            ]
          },
          "metadata": {},
          "output_type": "display_data"
        },
        {
          "data": {
            "image/png": "[encoded data removed]",
            "text/plain": [
              "<Figure size 640x480 with 1 Axes>"
            ]
          },
          "metadata": {},
          "output_type": "display_data"
        }
      ],
      "source": [
        "sns.countplot(data=df, x='Type')\n",
        "plt.title('Anime Type Distribution')\n",
        "plt.xticks(rotation=45)\n",
        "plt.show()\n",
        "sns.countplot(data=df, x='Rating')\n",
        "plt.title('Content Rating Distribution')\n",
        "plt.xticks(rotation=83)\n",
        "plt.show()"
      ]
    },
    {
      "cell_type": "code",
      "execution_count": 55,
      "metadata": {
        "id": "Xxu1ulSUCe6h"
      },
      "outputs": [
        {
          "data": {
            "text/plain": [
              "Index(['anime_id', 'Name', 'English name', 'Score', 'Genres', 'Synopsis',\n",
              "       'Type', 'Episodes', 'Aired', 'Status', 'Producers', 'Studios', 'Source',\n",
              "       'Duration', 'Rating', 'Popularity', 'Favorites', 'Scored By', 'Members',\n",
              "       'Image URL'],\n",
              "      dtype='object')"
            ]
          },
          "execution_count": 55,
          "metadata": {},
          "output_type": "execute_result"
        }
      ],
      "source": [
        "df.columns"
      ]
    },
    {
      "cell_type": "markdown",
      "metadata": {
        "id": "p6lf_1npuhcS"
      },
      "source": [
        "# PRE PROCESSING"
      ]
    },
    {
      "cell_type": "markdown",
      "metadata": {
        "id": "MkYHg2xaXAyc"
      },
      "source": [
        "## Feature Selection"
      ]
    },
    {
      "cell_type": "code",
      "execution_count": 56,
      "metadata": {
        "id": "_eIi_TCD6TOT"
      },
      "outputs": [],
      "source": [
        "feature_columns = ['anime_id', 'Name', 'English name', 'Score', 'Genres', 'Synopsis',\n",
        "       'Type', 'Episodes', 'Aired', 'Producers', 'Studios', 'Source',\n",
        "       'Duration', 'Rating', 'Popularity', 'Favorites', 'Scored By', 'Members',\n",
        "       'Image URL']"
      ]
    },
    {
      "cell_type": "markdown",
      "metadata": {
        "id": "rq7JSQTcXKNg"
      },
      "source": [
        "Use only columns that exist in the dataset"
      ]
    },
    {
      "cell_type": "code",
      "execution_count": 57,
      "metadata": {
        "id": "DGHtHXT86UqK"
      },
      "outputs": [
        {
          "name": "stdout",
          "output_type": "stream",
          "text": [
            "Selected features: ['anime_id', 'Name', 'English name', 'Score', 'Genres', 'Synopsis', 'Type', 'Episodes', 'Aired', 'Producers', 'Studios', 'Source', 'Duration', 'Rating', 'Popularity', 'Favorites', 'Scored By', 'Members', 'Image URL']\n"
          ]
        }
      ],
      "source": [
        "available_columns = [col for col in feature_columns if col in df.columns]\n",
        "animes = df[available_columns].copy()\n",
        "print(f\"Selected features: {animes.columns.tolist()}\")"
      ]
    },
    {
      "cell_type": "markdown",
      "metadata": {
        "id": "uxSkqAKf1PLm"
      },
      "source": [
        "## Text Preprocessing"
      ]
    },
    {
      "cell_type": "code",
      "execution_count": 58,
      "metadata": {
        "id": "_9jPYSDz6aTf"
      },
      "outputs": [
        {
          "name": "stdout",
          "output_type": "stream",
          "text": [
            "\n",
            "--- Text Preprocessing ---\n",
            "Text preprocessing completed\n"
          ]
        }
      ],
      "source": [
        "def preprocess_text(text):\n",
        "    if not isinstance(text, str) or text == \"UNKNOWN\":\n",
        "        return \"\"\n",
        "    # Convert to lowercase\n",
        "    text = text.lower()\n",
        "    # Remove special characters\n",
        "    text = re.sub(r'[^a-zA-Z0-9\\s]', ' ', text)\n",
        "    # Remove extra spaces\n",
        "    text = re.sub(r'\\s+', ' ', text).strip()\n",
        "    # Tokenize\n",
        "    words = text.split()\n",
        "    # Remove stopwords\n",
        "    stop_words = set(stopwords.words('english'))\n",
        "    words = [word for word in words if word not in stop_words]\n",
        "    # Stemming\n",
        "    ps = PorterStemmer()\n",
        "    words = [ps.stem(word) for word in words]\n",
        "    # Join words back\n",
        "    return ' '.join(words)\n",
        "\n",
        "# Apply text preprocessing\n",
        "print(\"\\n--- Text Preprocessing ---\")\n",
        "text_columns = ['Synopsis', 'Type']\n",
        "for col in text_columns:\n",
        "    if col in animes.columns:\n",
        "        animes[f'processed_{col.lower()}'] = animes[col].astype(str).apply(preprocess_text)\n",
        "\n",
        "print(\"Text preprocessing completed\")"
      ]
    },
    {
      "cell_type": "markdown",
      "metadata": {
        "id": "SJ6LHLmf1Uy7"
      },
      "source": [
        "## Vectorization using TF-IDF"
      ]
    },
    {
      "cell_type": "code",
      "execution_count": 59,
      "metadata": {
        "id": "L-8ugikw6hGe"
      },
      "outputs": [
        {
          "ename": "AttributeError",
          "evalue": "'NAType' object has no attribute 'lower'",
          "output_type": "error",
          "traceback": [
            "\u001b[1;31m---------------------------------------------------------------------------\u001b[0m",
            "\u001b[1;31mAttributeError\u001b[0m                            Traceback (most recent call last)",
            "Cell \u001b[1;32mIn[59], line 2\u001b[0m\n\u001b[0;32m      1\u001b[0m tfidf_genres \u001b[38;5;241m=\u001b[39m TfidfVectorizer(tokenizer\u001b[38;5;241m=\u001b[39m\u001b[38;5;28;01mlambda\u001b[39;00m x: x\u001b[38;5;241m.\u001b[39msplit(\u001b[38;5;124m'\u001b[39m\u001b[38;5;124m, \u001b[39m\u001b[38;5;124m'\u001b[39m))\n\u001b[1;32m----> 2\u001b[0m genres_vec \u001b[38;5;241m=\u001b[39m \u001b[43mtfidf_genres\u001b[49m\u001b[38;5;241;43m.\u001b[39;49m\u001b[43mfit_transform\u001b[49m\u001b[43m(\u001b[49m\u001b[43manimes\u001b[49m\u001b[43m[\u001b[49m\u001b[38;5;124;43m'\u001b[39;49m\u001b[38;5;124;43mGenres\u001b[39;49m\u001b[38;5;124;43m'\u001b[39;49m\u001b[43m]\u001b[49m\u001b[43m)\u001b[49m\n\u001b[0;32m      4\u001b[0m tfidf_synopsis \u001b[38;5;241m=\u001b[39m TfidfVectorizer(\n\u001b[0;32m      5\u001b[0m     max_features\u001b[38;5;241m=\u001b[39m\u001b[38;5;241m5000\u001b[39m,\n\u001b[0;32m      6\u001b[0m     ngram_range\u001b[38;5;241m=\u001b[39m(\u001b[38;5;241m1\u001b[39m, \u001b[38;5;241m2\u001b[39m),\n\u001b[0;32m      7\u001b[0m     sublinear_tf\u001b[38;5;241m=\u001b[39m\u001b[38;5;28;01mTrue\u001b[39;00m\n\u001b[0;32m      8\u001b[0m )\n\u001b[0;32m      9\u001b[0m synopsis_vec \u001b[38;5;241m=\u001b[39m tfidf_synopsis\u001b[38;5;241m.\u001b[39mfit_transform(animes[\u001b[38;5;124m'\u001b[39m\u001b[38;5;124mprocessed_synopsis\u001b[39m\u001b[38;5;124m'\u001b[39m])\n",
            "File \u001b[1;32mc:\\Users\\ASUS\\AppData\\Local\\Programs\\Python\\Python312\\Lib\\site-packages\\sklearn\\feature_extraction\\text.py:2104\u001b[0m, in \u001b[0;36mTfidfVectorizer.fit_transform\u001b[1;34m(self, raw_documents, y)\u001b[0m\n\u001b[0;32m   2097\u001b[0m \u001b[38;5;28mself\u001b[39m\u001b[38;5;241m.\u001b[39m_check_params()\n\u001b[0;32m   2098\u001b[0m \u001b[38;5;28mself\u001b[39m\u001b[38;5;241m.\u001b[39m_tfidf \u001b[38;5;241m=\u001b[39m TfidfTransformer(\n\u001b[0;32m   2099\u001b[0m     norm\u001b[38;5;241m=\u001b[39m\u001b[38;5;28mself\u001b[39m\u001b[38;5;241m.\u001b[39mnorm,\n\u001b[0;32m   2100\u001b[0m     use_idf\u001b[38;5;241m=\u001b[39m\u001b[38;5;28mself\u001b[39m\u001b[38;5;241m.\u001b[39muse_idf,\n\u001b[0;32m   2101\u001b[0m     smooth_idf\u001b[38;5;241m=\u001b[39m\u001b[38;5;28mself\u001b[39m\u001b[38;5;241m.\u001b[39msmooth_idf,\n\u001b[0;32m   2102\u001b[0m     sublinear_tf\u001b[38;5;241m=\u001b[39m\u001b[38;5;28mself\u001b[39m\u001b[38;5;241m.\u001b[39msublinear_tf,\n\u001b[0;32m   2103\u001b[0m )\n\u001b[1;32m-> 2104\u001b[0m X \u001b[38;5;241m=\u001b[39m \u001b[38;5;28;43msuper\u001b[39;49m\u001b[43m(\u001b[49m\u001b[43m)\u001b[49m\u001b[38;5;241;43m.\u001b[39;49m\u001b[43mfit_transform\u001b[49m\u001b[43m(\u001b[49m\u001b[43mraw_documents\u001b[49m\u001b[43m)\u001b[49m\n\u001b[0;32m   2105\u001b[0m \u001b[38;5;28mself\u001b[39m\u001b[38;5;241m.\u001b[39m_tfidf\u001b[38;5;241m.\u001b[39mfit(X)\n\u001b[0;32m   2106\u001b[0m \u001b[38;5;66;03m# X is already a transformed view of raw_documents so\u001b[39;00m\n\u001b[0;32m   2107\u001b[0m \u001b[38;5;66;03m# we set copy to False\u001b[39;00m\n",
            "File \u001b[1;32mc:\\Users\\ASUS\\AppData\\Local\\Programs\\Python\\Python312\\Lib\\site-packages\\sklearn\\base.py:1389\u001b[0m, in \u001b[0;36m_fit_context.<locals>.decorator.<locals>.wrapper\u001b[1;34m(estimator, *args, **kwargs)\u001b[0m\n\u001b[0;32m   1382\u001b[0m     estimator\u001b[38;5;241m.\u001b[39m_validate_params()\n\u001b[0;32m   1384\u001b[0m \u001b[38;5;28;01mwith\u001b[39;00m config_context(\n\u001b[0;32m   1385\u001b[0m     skip_parameter_validation\u001b[38;5;241m=\u001b[39m(\n\u001b[0;32m   1386\u001b[0m         prefer_skip_nested_validation \u001b[38;5;129;01mor\u001b[39;00m global_skip_validation\n\u001b[0;32m   1387\u001b[0m     )\n\u001b[0;32m   1388\u001b[0m ):\n\u001b[1;32m-> 1389\u001b[0m     \u001b[38;5;28;01mreturn\u001b[39;00m \u001b[43mfit_method\u001b[49m\u001b[43m(\u001b[49m\u001b[43mestimator\u001b[49m\u001b[43m,\u001b[49m\u001b[43m \u001b[49m\u001b[38;5;241;43m*\u001b[39;49m\u001b[43margs\u001b[49m\u001b[43m,\u001b[49m\u001b[43m \u001b[49m\u001b[38;5;241;43m*\u001b[39;49m\u001b[38;5;241;43m*\u001b[39;49m\u001b[43mkwargs\u001b[49m\u001b[43m)\u001b[49m\n",
            "File \u001b[1;32mc:\\Users\\ASUS\\AppData\\Local\\Programs\\Python\\Python312\\Lib\\site-packages\\sklearn\\feature_extraction\\text.py:1376\u001b[0m, in \u001b[0;36mCountVectorizer.fit_transform\u001b[1;34m(self, raw_documents, y)\u001b[0m\n\u001b[0;32m   1368\u001b[0m             warnings\u001b[38;5;241m.\u001b[39mwarn(\n\u001b[0;32m   1369\u001b[0m                 \u001b[38;5;124m\"\u001b[39m\u001b[38;5;124mUpper case characters found in\u001b[39m\u001b[38;5;124m\"\u001b[39m\n\u001b[0;32m   1370\u001b[0m                 \u001b[38;5;124m\"\u001b[39m\u001b[38;5;124m vocabulary while \u001b[39m\u001b[38;5;124m'\u001b[39m\u001b[38;5;124mlowercase\u001b[39m\u001b[38;5;124m'\u001b[39m\u001b[38;5;124m\"\u001b[39m\n\u001b[0;32m   1371\u001b[0m                 \u001b[38;5;124m\"\u001b[39m\u001b[38;5;124m is True. These entries will not\u001b[39m\u001b[38;5;124m\"\u001b[39m\n\u001b[0;32m   1372\u001b[0m                 \u001b[38;5;124m\"\u001b[39m\u001b[38;5;124m be matched with any documents\u001b[39m\u001b[38;5;124m\"\u001b[39m\n\u001b[0;32m   1373\u001b[0m             )\n\u001b[0;32m   1374\u001b[0m             \u001b[38;5;28;01mbreak\u001b[39;00m\n\u001b[1;32m-> 1376\u001b[0m vocabulary, X \u001b[38;5;241m=\u001b[39m \u001b[38;5;28;43mself\u001b[39;49m\u001b[38;5;241;43m.\u001b[39;49m\u001b[43m_count_vocab\u001b[49m\u001b[43m(\u001b[49m\u001b[43mraw_documents\u001b[49m\u001b[43m,\u001b[49m\u001b[43m \u001b[49m\u001b[38;5;28;43mself\u001b[39;49m\u001b[38;5;241;43m.\u001b[39;49m\u001b[43mfixed_vocabulary_\u001b[49m\u001b[43m)\u001b[49m\n\u001b[0;32m   1378\u001b[0m \u001b[38;5;28;01mif\u001b[39;00m \u001b[38;5;28mself\u001b[39m\u001b[38;5;241m.\u001b[39mbinary:\n\u001b[0;32m   1379\u001b[0m     X\u001b[38;5;241m.\u001b[39mdata\u001b[38;5;241m.\u001b[39mfill(\u001b[38;5;241m1\u001b[39m)\n",
            "File \u001b[1;32mc:\\Users\\ASUS\\AppData\\Local\\Programs\\Python\\Python312\\Lib\\site-packages\\sklearn\\feature_extraction\\text.py:1263\u001b[0m, in \u001b[0;36mCountVectorizer._count_vocab\u001b[1;34m(self, raw_documents, fixed_vocab)\u001b[0m\n\u001b[0;32m   1261\u001b[0m \u001b[38;5;28;01mfor\u001b[39;00m doc \u001b[38;5;129;01min\u001b[39;00m raw_documents:\n\u001b[0;32m   1262\u001b[0m     feature_counter \u001b[38;5;241m=\u001b[39m {}\n\u001b[1;32m-> 1263\u001b[0m     \u001b[38;5;28;01mfor\u001b[39;00m feature \u001b[38;5;129;01min\u001b[39;00m \u001b[43manalyze\u001b[49m\u001b[43m(\u001b[49m\u001b[43mdoc\u001b[49m\u001b[43m)\u001b[49m:\n\u001b[0;32m   1264\u001b[0m         \u001b[38;5;28;01mtry\u001b[39;00m:\n\u001b[0;32m   1265\u001b[0m             feature_idx \u001b[38;5;241m=\u001b[39m vocabulary[feature]\n",
            "File \u001b[1;32mc:\\Users\\ASUS\\AppData\\Local\\Programs\\Python\\Python312\\Lib\\site-packages\\sklearn\\feature_extraction\\text.py:104\u001b[0m, in \u001b[0;36m_analyze\u001b[1;34m(doc, analyzer, tokenizer, ngrams, preprocessor, decoder, stop_words)\u001b[0m\n\u001b[0;32m    102\u001b[0m \u001b[38;5;28;01melse\u001b[39;00m:\n\u001b[0;32m    103\u001b[0m     \u001b[38;5;28;01mif\u001b[39;00m preprocessor \u001b[38;5;129;01mis\u001b[39;00m \u001b[38;5;129;01mnot\u001b[39;00m \u001b[38;5;28;01mNone\u001b[39;00m:\n\u001b[1;32m--> 104\u001b[0m         doc \u001b[38;5;241m=\u001b[39m \u001b[43mpreprocessor\u001b[49m\u001b[43m(\u001b[49m\u001b[43mdoc\u001b[49m\u001b[43m)\u001b[49m\n\u001b[0;32m    105\u001b[0m     \u001b[38;5;28;01mif\u001b[39;00m tokenizer \u001b[38;5;129;01mis\u001b[39;00m \u001b[38;5;129;01mnot\u001b[39;00m \u001b[38;5;28;01mNone\u001b[39;00m:\n\u001b[0;32m    106\u001b[0m         doc \u001b[38;5;241m=\u001b[39m tokenizer(doc)\n",
            "File \u001b[1;32mc:\\Users\\ASUS\\AppData\\Local\\Programs\\Python\\Python312\\Lib\\site-packages\\sklearn\\feature_extraction\\text.py:62\u001b[0m, in \u001b[0;36m_preprocess\u001b[1;34m(doc, accent_function, lower)\u001b[0m\n\u001b[0;32m     43\u001b[0m \u001b[38;5;250m\u001b[39m\u001b[38;5;124;03m\"\"\"Chain together an optional series of text preprocessing steps to\u001b[39;00m\n\u001b[0;32m     44\u001b[0m \u001b[38;5;124;03mapply to a document.\u001b[39;00m\n\u001b[0;32m     45\u001b[0m \n\u001b[1;32m   (...)\u001b[0m\n\u001b[0;32m     59\u001b[0m \u001b[38;5;124;03m    preprocessed string\u001b[39;00m\n\u001b[0;32m     60\u001b[0m \u001b[38;5;124;03m\"\"\"\u001b[39;00m\n\u001b[0;32m     61\u001b[0m \u001b[38;5;28;01mif\u001b[39;00m lower:\n\u001b[1;32m---> 62\u001b[0m     doc \u001b[38;5;241m=\u001b[39m \u001b[43mdoc\u001b[49m\u001b[38;5;241;43m.\u001b[39;49m\u001b[43mlower\u001b[49m()\n\u001b[0;32m     63\u001b[0m \u001b[38;5;28;01mif\u001b[39;00m accent_function \u001b[38;5;129;01mis\u001b[39;00m \u001b[38;5;129;01mnot\u001b[39;00m \u001b[38;5;28;01mNone\u001b[39;00m:\n\u001b[0;32m     64\u001b[0m     doc \u001b[38;5;241m=\u001b[39m accent_function(doc)\n",
            "\u001b[1;31mAttributeError\u001b[0m: 'NAType' object has no attribute 'lower'"
          ]
        }
      ],
      "source": [
        "tfidf_genres = TfidfVectorizer(tokenizer=lambda x: x.split(', '))\n",
        "genres_vec = tfidf_genres.fit_transform(animes['Genres'])\n",
        "\n",
        "tfidf_synopsis = TfidfVectorizer(\n",
        "    max_features=5000,\n",
        "    ngram_range=(1, 2),\n",
        "    sublinear_tf=True\n",
        ")\n",
        "synopsis_vec = tfidf_synopsis.fit_transform(animes['processed_synopsis'])\n"
      ]
    },
    {
      "cell_type": "markdown",
      "metadata": {
        "id": "OcG0Oa9t1fXR"
      },
      "source": [
        "## Normalization and Encoding"
      ]
    },
    {
      "cell_type": "code",
      "execution_count": null,
      "metadata": {
        "id": "pkC_BU_apjgJ"
      },
      "outputs": [],
      "source": [
        "scaler = MinMaxScaler()\n",
        "normalized = scaler.fit_transform(animes[['Score', 'Popularity', 'Favorites', 'Scored By', 'Members']])\n",
        "normalized_sparse = csr_matrix(normalized)\n",
        "\n",
        "encoder = OneHotEncoder(handle_unknown='ignore')\n",
        "cat_encoded = encoder.fit_transform(animes[['Type']])"
      ]
    },
    {
      "cell_type": "markdown",
      "metadata": {
        "id": "qKrhgIaS1lRR"
      },
      "source": [
        "## Combine all feature vectors"
      ]
    },
    {
      "cell_type": "code",
      "execution_count": null,
      "metadata": {
        "id": "Zl1BUd6H1oQC"
      },
      "outputs": [],
      "source": [
        "final_vectors = hstack([genres_vec, synopsis_vec, cat_encoded, normalized_sparse])\n",
        "print(f\"Final vector shape: {final_vectors.shape}\")"
      ]
    },
    {
      "cell_type": "markdown",
      "metadata": {
        "id": "z1ryhQzu1tIJ"
      },
      "source": [
        "Calculate similarity matrix"
      ]
    },
    {
      "cell_type": "code",
      "execution_count": null,
      "metadata": {
        "id": "usZcBbGj6hQf"
      },
      "outputs": [],
      "source": [
        "similarity = cosine_similarity(final_vectors)\n",
        "print(f\"Similarity matrix shape: {similarity.shape}\")"
      ]
    },
    {
      "cell_type": "markdown",
      "metadata": {
        "id": "EW01urNpvFwc"
      },
      "source": [
        "Display Function"
      ]
    },
    {
      "cell_type": "code",
      "execution_count": null,
      "metadata": {
        "id": "Z3NpGmYy6nq0"
      },
      "outputs": [],
      "source": [
        "def display_recommendations(recommendations, user_favorites=None):\n",
        "\n",
        "    if recommendations.empty:\n",
        "        return\n",
        "\n",
        "    print(\"\\n========== ANIME RECOMMENDATIONS ==========\\n\")\n",
        "\n",
        "    if user_favorites and len(user_favorites) > 0:\n",
        "        print(\"Based on your favorites:\")\n",
        "        for i, fav in enumerate(user_favorites, 1):\n",
        "            print(f\"  {i}. {fav}\")\n",
        "        print(\"\")\n",
        "\n",
        "\n",
        "    for i, (_, row) in enumerate(recommendations.iterrows(), 1):\n",
        "        print(f\"{i}. {row['Name']}\")\n",
        "        print(f\"   Genre: {row['Genres']}\")\n",
        "        print(f\"   Type: {row['Type']} | Episodes: {row['Episodes']} | Score: {row['Score']:.2f}\")\n",
        "        if 'collab_score' in row:\n",
        "           print(f\"   Collaborative Score: {row['collab_score']:.4f}\")\n",
        "        elif 'similarity_score' in row:\n",
        "           print(f\"   Similarity Score: {row['similarity_score']:.4f}\")\n",
        "        print(\"-\" * 50)"
      ]
    },
    {
      "cell_type": "markdown",
      "metadata": {
        "id": "xdrtUPOU1xFl"
      },
      "source": [
        "# Content-Based Filtering"
      ]
    },
    {
      "cell_type": "code",
      "execution_count": null,
      "metadata": {
        "id": "S7XvhbNN6kjX"
      },
      "outputs": [],
      "source": [
        "import difflib\n",
        "\n",
        "def recommend_anime(title, top_n=5, similarity_matrix=similarity, anime_df=animes):\n",
        "    title = title.lower()\n",
        "\n",
        "    # Gabungkan pencarian di Name dan English name\n",
        "    match = anime_df[anime_df['Name'].str.lower() == title]\n",
        "    if match.empty:\n",
        "        match = anime_df[anime_df['English name'].str.lower() == title]\n",
        "\n",
        "    # Jika masih tidak ditemukan, cari yang paling mirip\n",
        "    if match.empty:\n",
        "        all_titles = anime_df['Name'].str.lower().tolist()\n",
        "        closest_matches = difflib.get_close_matches(title, all_titles, n=1)\n",
        "        if not closest_matches:\n",
        "            print(f\"No anime found with title similar to '{title}'\")\n",
        "            return pd.DataFrame()\n",
        "        print(f\"No exact match found. Using closest match: {closest_matches[0]}\")\n",
        "        match = anime_df[anime_df['Name'].str.lower() == closest_matches[0]]\n",
        "\n",
        "    idx = match.index[0]\n",
        "\n",
        "    # Hitung similarity dan ambil top N\n",
        "    sim_scores = list(enumerate(similarity_matrix[idx]))\n",
        "    sim_scores = sorted(sim_scores, key=lambda x: x[1], reverse=True)[:top_n]\n",
        "    top_indices = [i[0] for i in sim_scores]\n",
        "\n",
        "    # Ambil anime rekomendasi\n",
        "    recommendations = anime_df.iloc[top_indices].copy()\n",
        "    recommendations['similarity_score'] = [i[1] for i in sim_scores]\n",
        "\n",
        "    return recommendations[['Name', 'Score', 'Genres', 'Type', 'Episodes', 'similarity_score']]"
      ]
    },
    {
      "cell_type": "code",
      "execution_count": null,
      "metadata": {
        "id": "AnEvVxzN65bZ"
      },
      "outputs": [],
      "source": [
        "CB_recommendations = recommend_anime(\"Naruto\")\n",
        "display_recommendations(CB_recommendations)"
      ]
    },
    {
      "cell_type": "markdown",
      "metadata": {
        "id": "XAsMRnYq23jU"
      },
      "source": [
        "# Multi-Anime Content-Based Filtering"
      ]
    },
    {
      "cell_type": "code",
      "execution_count": null,
      "metadata": {
        "id": "c8-WaFj4Dii7"
      },
      "outputs": [],
      "source": [
        "def collaborative_recommendations(user_favorites=None, top_n=5, similarity_matrix=similarity, anime_df=animes):\n",
        "\n",
        "    if not user_favorites or len(user_favorites) == 0:\n",
        "        print(\"No user favorites provided.\")\n",
        "        return pd.DataFrame()\n",
        "\n",
        "    # Normalize and index user favorites\n",
        "    user_favorites = [fav.strip().lower() for fav in user_favorites]\n",
        "    favorite_indices = []\n",
        "    for fav in user_favorites:\n",
        "        match = anime_df[anime_df['Name'].str.lower() == fav]\n",
        "        if not match.empty:\n",
        "            favorite_indices.append(match.index[0])\n",
        "\n",
        "    if not favorite_indices:\n",
        "        print(\"None of the favorite titles matched the dataset.\")\n",
        "        return pd.DataFrame()\n",
        "\n",
        "    # Compute average similarity score across user favorites\n",
        "    scores = []\n",
        "    for idx in range(len(anime_df)):\n",
        "        if idx in favorite_indices:\n",
        "            continue  # Skip already liked anime\n",
        "        avg_sim = np.mean([similarity_matrix[idx, fav_idx] for fav_idx in favorite_indices])\n",
        "        scores.append((idx, avg_sim))\n",
        "\n",
        "    # Sort by collaborative score\n",
        "    scores.sort(key=lambda x: x[1], reverse=True)\n",
        "    top_indices = [i[0] for i in scores[:top_n]]\n",
        "\n",
        "    # Prepare recommendations\n",
        "    recommendations = anime_df.iloc[top_indices].copy()\n",
        "    recommendations['collab_score'] = [i[1] for i in scores[:top_n]]\n",
        "\n",
        "    # Display columns\n",
        "    display_columns = ['Name', 'Score', 'Genres', 'Type', 'Episodes', 'collab_score']\n",
        "    if 'English name' in anime_df.columns:\n",
        "        display_columns.insert(1, 'English name')\n",
        "    for col in ['Studios', 'Source', 'Rating', 'Popularity']:\n",
        "        if col in anime_df.columns:\n",
        "            display_columns.insert(-1, col)\n",
        "\n",
        "    return recommendations[display_columns]\n"
      ]
    },
    {
      "cell_type": "code",
      "execution_count": null,
      "metadata": {
        "id": "iQPHgGgBelW9"
      },
      "outputs": [],
      "source": [
        "user_favorites = [\"Naruto\", \"Naruto: Shippuuden\", \"One Piece\"]\n",
        "try:\n",
        "    recommend = collaborative_recommendations(user_favorites=user_favorites)\n",
        "    display_recommendations(recommend, user_favorites)\n",
        "except Exception as e:\n",
        "    print(f\"Error during hybrid recommendation: {e}\")"
      ]
    },
    {
      "cell_type": "markdown",
      "metadata": {
        "id": "mnURTYvIdcqs"
      },
      "source": [
        "# Item-Based Collaborative Filtering"
      ]
    },
    {
      "cell_type": "code",
      "execution_count": null,
      "metadata": {
        "id": "7DXNd8t6dg-Y"
      },
      "outputs": [],
      "source": [
        "popular_anime = ratings['anime_id'].value_counts()[lambda x: x >= 5000].index\n",
        "filtered_ratings = ratings[ratings['anime_id'].isin(popular_anime)]\n",
        "user_item_matrix = filtered_ratings.pivot_table(index='user_id', columns='anime_id', values='rating')"
      ]
    },
    {
      "cell_type": "code",
      "execution_count": null,
      "metadata": {
        "id": "RN8UHV-P3FU4"
      },
      "outputs": [],
      "source": [
        "# 3. Hitung similarity antar anime (item-based CF)\n",
        "# Gantilah NaN dengan 0 agar bisa dihitung similarity\n",
        "item_similarity = cosine_similarity(user_item_matrix.fillna(0).T)\n",
        "item_similarity_df = pd.DataFrame(item_similarity, index=user_item_matrix.columns, columns=user_item_matrix.columns)\n",
        "\n",
        "# 4. Fungsi rekomendasi berdasarkan anime yang disukai user\n",
        "def recommend_collaborative(user_favorites, top_n=5, anime_df=animes):\n",
        "    fav_ids = []\n",
        "    for title in user_favorites:\n",
        "        match = anime_df[anime_df['Name'].str.lower() == title.lower()]\n",
        "        if not match.empty:\n",
        "            fav_ids.append(match.iloc[0]['anime_id'])\n",
        "\n",
        "    if not fav_ids:\n",
        "        print(\"Anime favorit tidak ditemukan.\")\n",
        "        return pd.DataFrame()\n",
        "\n",
        "    scores = {}\n",
        "    for anime_id in item_similarity_df.columns:\n",
        "        if anime_id in fav_ids:\n",
        "            continue\n",
        "        # Ambil similarity dari semua fav_ids ke anime ini dan rata-rata\n",
        "        similarities = [item_similarity_df.loc[fav_id, anime_id] for fav_id in fav_ids if fav_id in item_similarity_df.index and anime_id in item_similarity_df.columns]\n",
        "        if similarities:\n",
        "            scores[anime_id] = np.mean(similarities)\n",
        "\n",
        "    top_recs = sorted(scores.items(), key=lambda x: x[1], reverse=True)[:top_n]\n",
        "    top_ids = [rec[0] for rec in top_recs]\n",
        "    top_scores = {rec[0]: rec[1] for rec in top_recs}\n",
        "\n",
        "    recommendations = anime_df[anime_df['anime_id'].isin(top_ids)].copy()\n",
        "    recommendations['collab_score'] = recommendations['anime_id'].map(top_scores)\n",
        "\n",
        "    display_columns = ['Name', 'English name', 'Score', 'Genres', 'Type', 'Episodes', 'collab_score']\n",
        "    return recommendations[display_columns].sort_values(by='collab_score', ascending=False)\n"
      ]
    },
    {
      "cell_type": "code",
      "execution_count": null,
      "metadata": {
        "id": "484K7Zgu57U6"
      },
      "outputs": [],
      "source": [
        "user_favorites = [\"Naruto\", \"Naruto: Shippuuden\", \"One Piece\"]\n",
        "recommend = recommend_collaborative(user_favorites=user_favorites)\n",
        "display_recommendations(recommend, user_favorites)"
      ]
    },
    {
      "cell_type": "markdown",
      "metadata": {
        "id": "DlkONdSnpnH8"
      },
      "source": [
        "# **Kesimpulan**"
      ]
    },
    {
      "cell_type": "markdown",
      "metadata": {
        "id": "IbmoIbPicAyG"
      },
      "source": [
        "* Dari Content-Based Filtering (CBF) dapat dilihat hasil paling tinggi secara cosine similarity, membuktikan bahwa vektor konten seperti genre, sinopsis, dan skor memberikan dasar kuat untuk relevansi rekomendasi.\n",
        "* Nilai similarity yang tinggi (hampir 0.85–1.00) menunjukkan sistem dapat menangkap makna konten dengan akurat.\n",
        "* Sedangkan Multi-Anime CBF sangat berguna bagi pengguna dengan selera campuran, dan tetap menghasilkan skor tinggi, walaupun lebih terdispersi.\n",
        "* Dan Collaborative Filtering memperluas cakupan dengan variasi yang lebih besar, meski kadang menyimpang dari konten, namun menyajikan rekomendasi berbasis preferensi kolektif.\n"
      ]
    }
  ],
  "metadata": {
    "colab": {
      "provenance": []
    },
    "kernelspec": {
      "display_name": "Python 3",
      "name": "python3"
    },
    "language_info": {
      "codemirror_mode": {
        "name": "ipython",
        "version": 3
      },
      "file_extension": ".py",
      "mimetype": "text/x-python",
      "name": "python",
      "nbconvert_exporter": "python",
      "pygments_lexer": "ipython3",
      "version": "3.12.1"
    }
  },
  "nbformat": 4,
  "nbformat_minor": 0
}
